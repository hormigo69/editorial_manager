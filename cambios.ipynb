{
 "cells": [
  {
   "attachments": {},
   "cell_type": "markdown",
   "metadata": {},
   "source": [
    "# Detección de cambios en los manuscritos"
   ]
  },
  {
   "attachments": {},
   "cell_type": "markdown",
   "metadata": {},
   "source": [
    "## Carga de datos\n",
    "Cargamos los datos del histórico db_editorial_manager.csv y del scrap n_proceso_actual.csv y definitiva_actual.csv"
   ]
  },
  {
   "cell_type": "code",
   "execution_count": 1,
   "metadata": {},
   "outputs": [
    {
     "name": "stdout",
     "output_type": "stream",
     "text": [
      "<class 'pandas.core.frame.DataFrame'>\n",
      "Int64Index: 126 entries, 14 to 764\n",
      "Data columns (total 63 columns):\n",
      " #   Column                      Non-Null Count  Dtype  \n",
      "---  ------                      --------------  -----  \n",
      " 0   data_identity               0 non-null      float64\n",
      " 1   numero_manuscrito           126 non-null    object \n",
      " 2   referencia                  126 non-null    object \n",
      " 3   revision                    0 non-null      float64\n",
      " 4   titulo                      126 non-null    object \n",
      " 5   tipo_articulo               0 non-null      float64\n",
      " 6   autor                       0 non-null      float64\n",
      " 7   email                       0 non-null      float64\n",
      " 8   fecha_inicial               0 non-null      float64\n",
      " 9   estado_actual               0 non-null      float64\n",
      " 10  fecha_estado                0 non-null      float64\n",
      " 11  fecha_vencimiento           0 non-null      float64\n",
      " 12  editor                      0 non-null      float64\n",
      " 13  decision_editor_def         0 non-null      float64\n",
      " 14  est_ev_completo             0 non-null      float64\n",
      " 15  est_ev_aceptado             0 non-null      float64\n",
      " 16  est_ev_invitado             0 non-null      float64\n",
      " 17  est_ev_rechazado            0 non-null      float64\n",
      " 18  est_ev_tarde                0 non-null      float64\n",
      " 19  año                         126 non-null    int64  \n",
      " 20  ref_maquetado               43 non-null     object \n",
      " 21  estado                      126 non-null    object \n",
      " 22  responsable                 126 non-null    object \n",
      " 23  notas                       48 non-null     object \n",
      " 24  entrada                     126 non-null    object \n",
      " 25  revision_1                  52 non-null     object \n",
      " 26  comentarios_ultimo_revisor  31 non-null     object \n",
      " 27  decision_editor_r1          103 non-null    object \n",
      " 28  entrada_r1                  51 non-null     object \n",
      " 29  revision_r1                 20 non-null     object \n",
      " 30  coment_compl_r1             11 non-null     object \n",
      " 31  dec_editor_r1               44 non-null     object \n",
      " 32  entrada_r2                  9 non-null      object \n",
      " 33  revision_r2                 4 non-null      object \n",
      " 34  coment_compl_r2             3 non-null      object \n",
      " 35  dec_editor_r2               9 non-null      object \n",
      " 36  entrada_r3                  2 non-null      object \n",
      " 37  revision_r3                 1 non-null      object \n",
      " 38  coment_completos_r3         0 non-null      object \n",
      " 39  dec_editor_r3               3 non-null      object \n",
      " 40  entrada_r4                  0 non-null      object \n",
      " 41  revision_r4                 0 non-null      object \n",
      " 42  coment_completos_r4         0 non-null      object \n",
      " 43  rechazo                     4 non-null      object \n",
      " 44  aceptacion                  46 non-null     object \n",
      " 45  maquetacion                 41 non-null     object \n",
      " 46  in_press                    6 non-null      object \n",
      " 47  publicado                   0 non-null      object \n",
      " 48  publicado_detalles          2 non-null      object \n",
      " 49  pmid                        1 non-null      object \n",
      " 50  etapa_1                     52 non-null     object \n",
      " 51  etapa_2                     31 non-null     float64\n",
      " 52  etapa_3                     29 non-null     float64\n",
      " 53  etapa_4                     51 non-null     float64\n",
      " 54  etapa_5                     20 non-null     float64\n",
      " 55  etapa_6                     39 non-null     float64\n",
      " 56  maquet_in_press             6 non-null      object \n",
      " 57  activo                      126 non-null    bool   \n",
      " 58  ultima_accion               126 non-null    object \n",
      " 59  dias_pasados                126 non-null    int64  \n",
      " 60  mayor_10_dias               126 non-null    bool   \n",
      " 61  fecha_alta                  0 non-null      float64\n",
      " 62  fecha_baja                  0 non-null      object \n",
      "dtypes: bool(2), float64(22), int64(2), object(37)\n",
      "memory usage: 61.3+ KB\n"
     ]
    }
   ],
   "source": [
    "import pandas as pd\n",
    "\n",
    "#get the old data from db_editorial_manager.csv and store it in a dataframe called old_data\n",
    "old_data = pd.read_csv('db_editorial_manager.csv')\n",
    "\n",
    "last_row = old_data.index[-1]\n",
    "\n",
    "#filter the rows that have the column fecha_baja == null\n",
    "old_data = old_data[old_data['fecha_baja'].isnull()]\n",
    "\n",
    "#old_data.head()\n",
    "old_data.info()\n"
   ]
  },
  {
   "cell_type": "code",
   "execution_count": 2,
   "metadata": {},
   "outputs": [
    {
     "name": "stdout",
     "output_type": "stream",
     "text": [
      "<class 'pandas.core.frame.DataFrame'>\n",
      "RangeIndex: 69 entries, 0 to 68\n",
      "Data columns (total 19 columns):\n",
      " #   Column             Non-Null Count  Dtype  \n",
      "---  ------             --------------  -----  \n",
      " 0   numero_manuscrito  69 non-null     object \n",
      " 1   tipo_articulo      69 non-null     object \n",
      " 2   titulo             69 non-null     object \n",
      " 3   autor              69 non-null     object \n",
      " 4   fecha_inicial      69 non-null     object \n",
      " 5   fecha_estado       69 non-null     object \n",
      " 6   estado_actual      69 non-null     object \n",
      " 7   editor             29 non-null     object \n",
      " 8   decision_editor    48 non-null     object \n",
      " 9   est_ev_completo    29 non-null     float64\n",
      " 10  est_ev_aceptado    29 non-null     float64\n",
      " 11  est_ev_invitado    29 non-null     float64\n",
      " 12  est_ev_rechazado   29 non-null     float64\n",
      " 13  est_ev_tarde       29 non-null     float64\n",
      " 14  data_identity      69 non-null     int64  \n",
      " 15  email              40 non-null     object \n",
      " 16  fecha_vencimiento  40 non-null     object \n",
      " 17  fecha_alta         0 non-null      float64\n",
      " 18  fecha_baja         0 non-null      float64\n",
      "dtypes: float64(7), int64(1), object(11)\n",
      "memory usage: 10.4+ KB\n",
      "None\n",
      "<class 'pandas.core.frame.DataFrame'>\n",
      "RangeIndex: 100 entries, 0 to 99\n",
      "Data columns (total 11 columns):\n",
      " #   Column             Non-Null Count  Dtype \n",
      "---  ------             --------------  ----- \n",
      " 0   numero_manuscrito  90 non-null     object\n",
      " 1   tipo_articulo      100 non-null    object\n",
      " 2   titulo             94 non-null     object\n",
      " 3   autor              100 non-null    object\n",
      " 4   fecha_inicial      91 non-null     object\n",
      " 5   fecha_estado       100 non-null    object\n",
      " 6   estado_actual      100 non-null    object\n",
      " 7   editor             90 non-null     object\n",
      " 8   estado_evaluacion  100 non-null    object\n",
      " 9   decision_editor    90 non-null     object\n",
      " 10  data_identity      100 non-null    int64 \n",
      "dtypes: int64(1), object(10)\n",
      "memory usage: 8.7+ KB\n",
      "None\n"
     ]
    }
   ],
   "source": [
    "#get the new data from en_proceso_actual.csv and definitiva_actual.csv and store it in two dataframes called en_procoeso and definitiva\n",
    "en_proceso = pd.read_csv('scrap/en_proceso_actual.csv')\n",
    "definitiva = pd.read_csv('scrap/definitiva_actual.csv')\n",
    "\n",
    "print (en_proceso.info())\n",
    "print (definitiva.info())"
   ]
  },
  {
   "cell_type": "code",
   "execution_count": null,
   "metadata": {},
   "outputs": [],
   "source": []
  },
  {
   "attachments": {},
   "cell_type": "markdown",
   "metadata": {},
   "source": [
    "## Nuevo manuscrito\n",
    "\n",
    "Al scrapear la página vemos que hay artículos que no están en bd_editorial_manager.csv pero sí en en_proceso_actual.csv"
   ]
  },
  {
   "cell_type": "code",
   "execution_count": 3,
   "metadata": {},
   "outputs": [
    {
     "name": "stdout",
     "output_type": "stream",
     "text": [
      "4 manuscritos nuevos en en_proceso\n",
      "   numero_manuscrito         estado_actual\n",
      "0   NEFRO-D-23-00040  Pendiente del Editor\n",
      "1   NEFRO-D-23-00039  Pendiente del Editor\n",
      "34  NEFRO-D-23-00013  Revise / A Modificar\n",
      "35  NEFRO-D-23-00012  Revise / A Modificar\n"
     ]
    }
   ],
   "source": [
    "#find new manuscritos in en_proceso that are not in old_data comparing the first 16 characters of numero_manuscrito column\n",
    "new_manuscritos_en_proceso = en_proceso[~en_proceso.numero_manuscrito.str.contains('|'.join(old_data.numero_manuscrito.str[:16]))]\n",
    "\n",
    "print (len(new_manuscritos_en_proceso), 'manuscritos nuevos en en_proceso')\n",
    "#print numero_manuscrito  and estado_actual\n",
    "print (new_manuscritos_en_proceso[['numero_manuscrito', 'estado_actual']])\n"
   ]
  },
  {
   "cell_type": "code",
   "execution_count": 4,
   "metadata": {},
   "outputs": [],
   "source": [
    "#we need the same columns in the new dataframes as in the old one.\n",
    "#we will add the columns that are missing in the new dataframe\n",
    "import numpy as np\n",
    "\n",
    "#columns that are in old_data but not in new_manuscritos_en_proceso\n",
    "columns_to_add = set(old_data.columns).difference(new_manuscritos_en_proceso.columns)\n",
    "\n",
    "#add the missing columns to new_manuscritos_en_proceso and fill them with NaN\n",
    "new_manuscritos_en_proceso = new_manuscritos_en_proceso.assign(**{col: np.nan for col in columns_to_add})"
   ]
  },
  {
   "cell_type": "code",
   "execution_count": 5,
   "metadata": {},
   "outputs": [],
   "source": [
    "#rename 'decision_editor' to 'decision_editor_def' in new_manuscritos_en_proceso\n",
    "\n",
    "new_manuscritos_en_proceso['decision_editor_def'] = new_manuscritos_en_proceso['decision_editor'].copy()\n",
    "new_manuscritos_en_proceso.drop(columns=['decision_editor'], inplace=True)\n"
   ]
  },
  {
   "cell_type": "code",
   "execution_count": 6,
   "metadata": {},
   "outputs": [
    {
     "name": "stdout",
     "output_type": "stream",
     "text": [
      "31/01/2023\n"
     ]
    }
   ],
   "source": [
    "#calculate today date in dd/mm/yyyy format\n",
    "import datetime \n",
    "today = datetime.datetime.now().strftime(\"%d/%m/%Y\")\n",
    "print (today)"
   ]
  },
  {
   "cell_type": "code",
   "execution_count": 7,
   "metadata": {},
   "outputs": [],
   "source": [
    "#calculated fields in old_data\n",
    "    # referencia -> numero_manuscrito (first 16 characters)\n",
    "    # revision -> numero_manuscrito (characters 17-18)\n",
    "    # año -> numero_manuscrito (characters 9-10 + 2000)\n",
    "    # fecha_alta -> today\n",
    "\n",
    "#calculated fields in new_manuscritos_en_proceso\n",
    "for index, row in new_manuscritos_en_proceso.iterrows():\n",
    "    # referencia -> referencia (first 16 characters)\n",
    "    new_manuscritos_en_proceso.loc[index, 'referencia'] = row['numero_manuscrito'][:16]\n",
    "    # revision -> referencia (characters 17-18)\n",
    "    new_manuscritos_en_proceso.loc[index, 'revision'] = row['numero_manuscrito'][16:18]\n",
    "    # año -> referencia (characters 9-10 + 2000)\n",
    "    new_manuscritos_en_proceso.at[index, 'año'] = int(row['numero_manuscrito'][8:10]) + 2000\n",
    "    # fecha_alta -> today\n",
    "    new_manuscritos_en_proceso.at[index, 'fecha_alta'] = today"
   ]
  },
  {
   "cell_type": "code",
   "execution_count": 8,
   "metadata": {},
   "outputs": [],
   "source": [
    "\n",
    "#fill the calculated fields in new_manuscritos_en_proceso\n",
    "for index, row in new_manuscritos_en_proceso.iterrows():\n",
    "    # if estado_actual == Pendiente del Editor\n",
    "        # fecha_estado -> entrada\n",
    "        # estado_actual\t-> 1. Nuevo esperando revisor o rechazar\n",
    "        #responsable -> Mariano / Roberto\n",
    "    if row['estado_actual'] == 'Pendiente del Editor':\n",
    "        new_manuscritos_en_proceso.at[index, 'entrada'] = row['fecha_estado']\n",
    "        new_manuscritos_en_proceso.at[index, 'estado'] = '1. Nuevo esperando revisor o rechazar'\n",
    "        new_manuscritos_en_proceso.at[index, 'responsable'] = 'Mariano / Roberto'\n",
    "\n",
    "    #if estado_actual == Revise / A Modificar\n",
    "        # fecha_estado -> entrada\n",
    "        # fecha_estado -> decision_editor_r1\n",
    "    elif row['estado_actual'] == 'Revise / A Modificar':\n",
    "        new_manuscritos_en_proceso.at[index, 'entrada'] = row['fecha_estado']\n",
    "        new_manuscritos_en_proceso.at[index, 'decision_editor_r1'] = row['fecha_estado']\n",
    "\n",
    "        # if decision_editor == Grandes cambios / Major revision\n",
    "            # estado -> 4.2 Grandes cambios\n",
    "        if row['decision_editor_def'] == 'Grandes cambios / Major revision':\n",
    "            new_manuscritos_en_proceso.at[index, 'estado'] = '4.2 Grandes cambios'\n",
    "\n",
    "        # if decision_editor == Pequeños cambios / Minor revision (los textos no son estos)\n",
    "            # estado -> 4.1 Pequeños cambios (los textos no son estos)\n",
    "        elif row['decision_editor_def'] == 'Pequeños cambios / Minor revision':\n",
    "            new_manuscritos_en_proceso.at[index, 'estado'] = '4.1 Pequeños cambios'\n",
    "\n"
   ]
  },
  {
   "cell_type": "code",
   "execution_count": 9,
   "metadata": {},
   "outputs": [
    {
     "data": {
      "text/plain": [
       "990"
      ]
     },
     "execution_count": 9,
     "metadata": {},
     "output_type": "execute_result"
    }
   ],
   "source": [
    "last_row"
   ]
  },
  {
   "cell_type": "code",
   "execution_count": 10,
   "metadata": {},
   "outputs": [],
   "source": [
    "#change the rows numbers of new_manuscritos_en_proceso to start from the last row number of old_data + 1\n",
    "new_manuscritos_en_proceso.index = range(last_row +1, last_row +1+len(new_manuscritos_en_proceso))"
   ]
  },
  {
   "cell_type": "code",
   "execution_count": 11,
   "metadata": {},
   "outputs": [
    {
     "name": "stdout",
     "output_type": "stream",
     "text": [
      "    numero_manuscrito        referencia revision     año  fecha_alta  \\\n",
      "991  NEFRO-D-23-00040  NEFRO-D-23-00040           2023.0  31/01/2023   \n",
      "992  NEFRO-D-23-00039  NEFRO-D-23-00039           2023.0  31/01/2023   \n",
      "993  NEFRO-D-23-00013  NEFRO-D-23-00013           2023.0  31/01/2023   \n",
      "994  NEFRO-D-23-00012  NEFRO-D-23-00012           2023.0  31/01/2023   \n",
      "\n",
      "        entrada decision_editor_r1                                 estado  \\\n",
      "991  27/01/2023                NaN  1. Nuevo esperando revisor o rechazar   \n",
      "992  27/01/2023                NaN  1. Nuevo esperando revisor o rechazar   \n",
      "993  12/01/2023         12/01/2023                    4.2 Grandes cambios   \n",
      "994  12/01/2023         12/01/2023                    4.2 Grandes cambios   \n",
      "\n",
      "           responsable  \n",
      "991  Mariano / Roberto  \n",
      "992  Mariano / Roberto  \n",
      "993                NaN  \n",
      "994                NaN  \n"
     ]
    }
   ],
   "source": [
    "#print the fields referencia, revision, año, fecha_alta from new_manuscritos_en_proceso\n",
    "print (new_manuscritos_en_proceso[['numero_manuscrito','referencia', 'revision', 'año', 'fecha_alta', 'entrada', 'decision_editor_r1', 'estado', 'responsable']])"
   ]
  },
  {
   "cell_type": "code",
   "execution_count": 12,
   "metadata": {},
   "outputs": [],
   "source": [
    "#old_data_bak = old_data.copy()\n",
    "#old_data = old_data_bak.copy()"
   ]
  },
  {
   "cell_type": "code",
   "execution_count": 13,
   "metadata": {},
   "outputs": [
    {
     "name": "stdout",
     "output_type": "stream",
     "text": [
      "<class 'pandas.core.frame.DataFrame'>\n",
      "Int64Index: 126 entries, 14 to 764\n",
      "Data columns (total 63 columns):\n",
      " #   Column                      Non-Null Count  Dtype  \n",
      "---  ------                      --------------  -----  \n",
      " 0   data_identity               0 non-null      float64\n",
      " 1   numero_manuscrito           126 non-null    object \n",
      " 2   referencia                  126 non-null    object \n",
      " 3   revision                    0 non-null      float64\n",
      " 4   titulo                      126 non-null    object \n",
      " 5   tipo_articulo               0 non-null      float64\n",
      " 6   autor                       0 non-null      float64\n",
      " 7   email                       0 non-null      float64\n",
      " 8   fecha_inicial               0 non-null      float64\n",
      " 9   estado_actual               0 non-null      float64\n",
      " 10  fecha_estado                0 non-null      float64\n",
      " 11  fecha_vencimiento           0 non-null      float64\n",
      " 12  editor                      0 non-null      float64\n",
      " 13  decision_editor_def         0 non-null      float64\n",
      " 14  est_ev_completo             0 non-null      float64\n",
      " 15  est_ev_aceptado             0 non-null      float64\n",
      " 16  est_ev_invitado             0 non-null      float64\n",
      " 17  est_ev_rechazado            0 non-null      float64\n",
      " 18  est_ev_tarde                0 non-null      float64\n",
      " 19  año                         126 non-null    int64  \n",
      " 20  ref_maquetado               43 non-null     object \n",
      " 21  estado                      126 non-null    object \n",
      " 22  responsable                 126 non-null    object \n",
      " 23  notas                       48 non-null     object \n",
      " 24  entrada                     126 non-null    object \n",
      " 25  revision_1                  52 non-null     object \n",
      " 26  comentarios_ultimo_revisor  31 non-null     object \n",
      " 27  decision_editor_r1          103 non-null    object \n",
      " 28  entrada_r1                  51 non-null     object \n",
      " 29  revision_r1                 20 non-null     object \n",
      " 30  coment_compl_r1             11 non-null     object \n",
      " 31  dec_editor_r1               44 non-null     object \n",
      " 32  entrada_r2                  9 non-null      object \n",
      " 33  revision_r2                 4 non-null      object \n",
      " 34  coment_compl_r2             3 non-null      object \n",
      " 35  dec_editor_r2               9 non-null      object \n",
      " 36  entrada_r3                  2 non-null      object \n",
      " 37  revision_r3                 1 non-null      object \n",
      " 38  coment_completos_r3         0 non-null      object \n",
      " 39  dec_editor_r3               3 non-null      object \n",
      " 40  entrada_r4                  0 non-null      object \n",
      " 41  revision_r4                 0 non-null      object \n",
      " 42  coment_completos_r4         0 non-null      object \n",
      " 43  rechazo                     4 non-null      object \n",
      " 44  aceptacion                  46 non-null     object \n",
      " 45  maquetacion                 41 non-null     object \n",
      " 46  in_press                    6 non-null      object \n",
      " 47  publicado                   0 non-null      object \n",
      " 48  publicado_detalles          2 non-null      object \n",
      " 49  pmid                        1 non-null      object \n",
      " 50  etapa_1                     52 non-null     object \n",
      " 51  etapa_2                     31 non-null     float64\n",
      " 52  etapa_3                     29 non-null     float64\n",
      " 53  etapa_4                     51 non-null     float64\n",
      " 54  etapa_5                     20 non-null     float64\n",
      " 55  etapa_6                     39 non-null     float64\n",
      " 56  maquet_in_press             6 non-null      object \n",
      " 57  activo                      126 non-null    bool   \n",
      " 58  ultima_accion               126 non-null    object \n",
      " 59  dias_pasados                126 non-null    int64  \n",
      " 60  mayor_10_dias               126 non-null    bool   \n",
      " 61  fecha_alta                  0 non-null      float64\n",
      " 62  fecha_baja                  0 non-null      object \n",
      "dtypes: bool(2), float64(22), int64(2), object(37)\n",
      "memory usage: 61.3+ KB\n"
     ]
    }
   ],
   "source": [
    "old_data.info()\n"
   ]
  },
  {
   "cell_type": "code",
   "execution_count": 14,
   "metadata": {},
   "outputs": [
    {
     "name": "stdout",
     "output_type": "stream",
     "text": [
      "<class 'pandas.core.frame.DataFrame'>\n",
      "Int64Index: 130 entries, 14 to 994\n",
      "Data columns (total 63 columns):\n",
      " #   Column                      Non-Null Count  Dtype  \n",
      "---  ------                      --------------  -----  \n",
      " 0   data_identity               4 non-null      float64\n",
      " 1   numero_manuscrito           130 non-null    object \n",
      " 2   referencia                  130 non-null    object \n",
      " 3   revision                    4 non-null      object \n",
      " 4   titulo                      130 non-null    object \n",
      " 5   tipo_articulo               4 non-null      object \n",
      " 6   autor                       4 non-null      object \n",
      " 7   email                       2 non-null      object \n",
      " 8   fecha_inicial               4 non-null      object \n",
      " 9   estado_actual               4 non-null      object \n",
      " 10  fecha_estado                4 non-null      object \n",
      " 11  fecha_vencimiento           2 non-null      object \n",
      " 12  editor                      2 non-null      object \n",
      " 13  decision_editor_def         2 non-null      object \n",
      " 14  est_ev_completo             2 non-null      float64\n",
      " 15  est_ev_aceptado             2 non-null      float64\n",
      " 16  est_ev_invitado             2 non-null      float64\n",
      " 17  est_ev_rechazado            2 non-null      float64\n",
      " 18  est_ev_tarde                2 non-null      float64\n",
      " 19  año                         130 non-null    float64\n",
      " 20  ref_maquetado               43 non-null     object \n",
      " 21  estado                      130 non-null    object \n",
      " 22  responsable                 128 non-null    object \n",
      " 23  notas                       48 non-null     object \n",
      " 24  entrada                     130 non-null    object \n",
      " 25  revision_1                  52 non-null     object \n",
      " 26  comentarios_ultimo_revisor  31 non-null     object \n",
      " 27  decision_editor_r1          105 non-null    object \n",
      " 28  entrada_r1                  51 non-null     object \n",
      " 29  revision_r1                 20 non-null     object \n",
      " 30  coment_compl_r1             11 non-null     object \n",
      " 31  dec_editor_r1               44 non-null     object \n",
      " 32  entrada_r2                  9 non-null      object \n",
      " 33  revision_r2                 4 non-null      object \n",
      " 34  coment_compl_r2             3 non-null      object \n",
      " 35  dec_editor_r2               9 non-null      object \n",
      " 36  entrada_r3                  2 non-null      object \n",
      " 37  revision_r3                 1 non-null      object \n",
      " 38  coment_completos_r3         0 non-null      object \n",
      " 39  dec_editor_r3               3 non-null      object \n",
      " 40  entrada_r4                  0 non-null      object \n",
      " 41  revision_r4                 0 non-null      object \n",
      " 42  coment_completos_r4         0 non-null      object \n",
      " 43  rechazo                     4 non-null      object \n",
      " 44  aceptacion                  46 non-null     object \n",
      " 45  maquetacion                 41 non-null     object \n",
      " 46  in_press                    6 non-null      object \n",
      " 47  publicado                   0 non-null      object \n",
      " 48  publicado_detalles          2 non-null      object \n",
      " 49  pmid                        1 non-null      object \n",
      " 50  etapa_1                     52 non-null     object \n",
      " 51  etapa_2                     31 non-null     float64\n",
      " 52  etapa_3                     29 non-null     float64\n",
      " 53  etapa_4                     51 non-null     float64\n",
      " 54  etapa_5                     20 non-null     float64\n",
      " 55  etapa_6                     39 non-null     float64\n",
      " 56  maquet_in_press             6 non-null      object \n",
      " 57  activo                      126 non-null    float64\n",
      " 58  ultima_accion               126 non-null    object \n",
      " 59  dias_pasados                126 non-null    float64\n",
      " 60  mayor_10_dias               126 non-null    float64\n",
      " 61  fecha_alta                  4 non-null      object \n",
      " 62  fecha_baja                  0 non-null      object \n",
      "dtypes: float64(15), object(48)\n",
      "memory usage: 65.0+ KB\n"
     ]
    },
    {
     "name": "stderr",
     "output_type": "stream",
     "text": [
      "/var/folders/ch/63kj7hh97f1_0yrh4d1t0t8c0000gn/T/ipykernel_15476/975985572.py:2: FutureWarning: Behavior when concatenating bool-dtype and numeric-dtype arrays is deprecated; in a future version these will cast to object dtype (instead of coercing bools to numeric values). To retain the old behavior, explicitly cast bool-dtype arrays to numeric dtype.\n",
      "  old_data = pd.concat([old_data, new_manuscritos_en_proceso], sort=False)\n"
     ]
    }
   ],
   "source": [
    "#add the data merging the new_manuscritos_en_proceso dataframe with the old_data dataframe\n",
    "old_data = pd.concat([old_data, new_manuscritos_en_proceso], sort=False)\n",
    "\n",
    "\n",
    "#print the new data in old_data dataframe. are the rows with referencia == NEFRO-D-23-00040, NEFRO-D-23-00039, NEFRO-D-23-00013, NEFRO-D-23-00012\n",
    "old_data.info()\n",
    "\n"
   ]
  },
  {
   "attachments": {},
   "cell_type": "markdown",
   "metadata": {},
   "source": [
    "# Detectar las bajas de manuscritos\n",
    "\n",
    "Está en old_data sin fecha de baja pero no están en en_proceso_actual, lo que acabamos de descargar. \n",
    "Busco el id en definitiva_actual para ver cual ha sido el status_final\n",
    "Añado la fecha de hoy como fecha de baja en definitiva_guardados"
   ]
  },
  {
   "cell_type": "code",
   "execution_count": 17,
   "metadata": {},
   "outputs": [
    {
     "name": "stdout",
     "output_type": "stream",
     "text": [
      "76 manuscritos borrados\n",
      "           referencia revision     año fecha_alta     entrada  \\\n",
      "14   NEFRO-D-21-00104      NaN  2021.0        NaN  2021-03-02   \n",
      "16   NEFRO-D-22-00086      NaN  2022.0        NaN  2022-03-07   \n",
      "18   NEFRO-D-22-00159      NaN  2022.0        NaN  2022-04-24   \n",
      "27   NEFRO-D-23-00027      NaN  2023.0        NaN  2023-01-19   \n",
      "52   NEFRO-D-23-00001      NaN  2023.0        NaN  2023-01-02   \n",
      "..                ...      ...     ...        ...         ...   \n",
      "466  NEFRO-D-22-00024      NaN  2022.0        NaN  2022-01-19   \n",
      "486  NEFRO-D-22-00005      NaN  2022.0        NaN  2022-01-04   \n",
      "495  NEFRO-D-21-00587      NaN  2021.0        NaN  2021-12-27   \n",
      "544  NEFRO-D-21-00534      NaN  2021.0        NaN  2021-11-23   \n",
      "764  NEFRO-D-21-00293      NaN  2021.0        NaN  2021-06-28   \n",
      "\n",
      "    decision_editor_r1                                 estado      responsable  \n",
      "14          2021-05-14                    4.2 Grandes cambios          Autores  \n",
      "16          2022-05-11                6. Revisión Maquetación                0  \n",
      "18          2022-07-16                    4.2 Grandes cambios          Autores  \n",
      "27                 NaN  1. Nuevo esperando revisor o rechazar  Mariano/Roberto  \n",
      "52          2023-01-10                6. Revisión Maquetación                0  \n",
      "..                 ...                                    ...              ...  \n",
      "466         2022-02-16                              Nefroplus  Mariano/Roberto  \n",
      "486         2022-02-24                      Decisión en curso  Mariano/Roberto  \n",
      "495         2022-02-20                6. Revisión Maquetación                0  \n",
      "544         2021-12-28                6. Revisión Maquetación                0  \n",
      "764         2021-09-06                              NefroPlus  Mariano/Roberto  \n",
      "\n",
      "[76 rows x 8 columns]\n"
     ]
    }
   ],
   "source": [
    "#find the manuscritos that are in old_data but not in new_manuscritos_en_proceso\n",
    "\n",
    "borrados = old_data[~old_data['referencia'].isin(en_proceso['numero_manuscrito'])]\n",
    "\n",
    "print (len(borrados), 'manuscritos borrados')\n",
    "print (borrados[['referencia', 'revision', 'año', 'fecha_alta', 'entrada', 'decision_editor_r1', 'estado', 'responsable']])"
   ]
  },
  {
   "cell_type": "code",
   "execution_count": 19,
   "metadata": {},
   "outputs": [
    {
     "data": {
      "text/plain": [
       "130"
      ]
     },
     "execution_count": 19,
     "metadata": {},
     "output_type": "execute_result"
    }
   ],
   "source": [
    "len(old_data)"
   ]
  },
  {
   "cell_type": "code",
   "execution_count": null,
   "metadata": {},
   "outputs": [],
   "source": []
  }
 ],
 "metadata": {
  "kernelspec": {
   "display_name": "Python 3",
   "language": "python",
   "name": "python3"
  },
  "language_info": {
   "codemirror_mode": {
    "name": "ipython",
    "version": 3
   },
   "file_extension": ".py",
   "mimetype": "text/x-python",
   "name": "python",
   "nbconvert_exporter": "python",
   "pygments_lexer": "ipython3",
   "version": "3.10.8 (main, Oct 13 2022, 09:48:40) [Clang 14.0.0 (clang-1400.0.29.102)]"
  },
  "orig_nbformat": 4,
  "vscode": {
   "interpreter": {
    "hash": "b0fa6594d8f4cbf19f97940f81e996739fb7646882a419484c72d19e05852a7e"
   }
  }
 },
 "nbformat": 4,
 "nbformat_minor": 2
}
