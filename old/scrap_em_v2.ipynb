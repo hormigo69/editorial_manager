{
 "cells": [
  {
   "cell_type": "code",
   "execution_count": 70,
   "metadata": {},
   "outputs": [],
   "source": [
    "import requests\n",
    "from bs4 import BeautifulSoup\n",
    "\n",
    "username = \"mariagps\"\n",
    "user_password = \"8Z4vn*!WTP\"\n",
    "login_data = {\"username\": username, \"password\": user_password, \"Login\": \"submit\"}\n",
    "headers = {\n",
    "'Accept-Language': 'es-ES,es;q=0.9,en;q=0.8',\n",
    "'Accept-Encoding': 'gzip, deflate, br',\n",
    "'Accept': 'text/html,application/xhtml+xml,application/xml;q=0.9,image/webp,image/apng,*/*;q=0.8',\n",
    "'Connection': 'keep-alive',\n",
    "}\n",
    "\n",
    "#define cookies as global variable\n",
    "global cookies\n",
    "\n",
    "def open_session():\n",
    "\n",
    "\n",
    "    url = \"https://www.editorialmanager.com/nefro/LoginAction.ashx\" #este funciona\n",
    "\n",
    "    #define username and password as global variables\n",
    "    global username\n",
    "    global user_password\n",
    "\n",
    "    session = requests.Session()\n",
    "    response = session.get(url)\n",
    "    print(response.status_code)\n",
    "    #soup = BeautifulSoup(response.content, features=\"html.parser\")\n",
    "    #print(soup)\n",
    "    states = [\"__RequestVerificationToken\", \"Email\", \"RememberMe\"]\n",
    "    \n",
    "\n",
    "    post_request = session.post(url,  data=login_data, headers=headers, allow_redirects=True)\n",
    "\n",
    "    #print cookies\n",
    "    cookies = session.cookies.get_dict()\n",
    "    print(cookies)\n",
    "\n",
    "    \n",
    "\n",
    "    return post_request"
   ]
  },
  {
   "cell_type": "code",
   "execution_count": 73,
   "metadata": {},
   "outputs": [],
   "source": [
    "#scrap the page and save it\n",
    "#scrap the page\n",
    "def scrap_page(url, file_name):\n",
    "    #call the page\n",
    "    r = requests.post(url, data=login_data, headers=headers, cookies=cookies, allow_redirects=True)\n",
    "    print(r.status_code)\n",
    "    #save the html\n",
    "    with open(file_name, 'w') as f:\n",
    "        f.write(r.text)"
   ]
  },
  {
   "cell_type": "code",
   "execution_count": 51,
   "metadata": {},
   "outputs": [],
   "source": [
    "#function logout\n",
    "def logout():\n",
    "    url_logout = 'https://www.editorialmanager.com/nefro/logout.asp'\n",
    "    #call the page\n",
    "    r = requests.post(url_logout, data=login_data, cookies=cookies, allow_redirects=True)\n",
    "    print(r.status_code)\n",
    "    #save the html\n",
    "    with open('logout.html', 'w') as f:\n",
    "        f.write(r.text)\n",
    "\n",
    "    return\n"
   ]
  },
  {
   "cell_type": "code",
   "execution_count": 78,
   "metadata": {},
   "outputs": [
    {
     "name": "stdout",
     "output_type": "stream",
     "text": [
      "200\n",
      "{'EMSessionID': '%7BCC5370E3%2DE7C6%2D413C%2DA619%2D0FE63A9072DB%7D'}\n"
     ]
    },
    {
     "data": {
      "text/plain": [
       "<Response [200]>"
      ]
     },
     "execution_count": 78,
     "metadata": {},
     "output_type": "execute_result"
    }
   ],
   "source": [
    "open_session()"
   ]
  },
  {
   "cell_type": "code",
   "execution_count": 72,
   "metadata": {},
   "outputs": [
    {
     "name": "stdout",
     "output_type": "stream",
     "text": [
      "200\n",
      "{'EMSessionID': '%7B410809CD%2D3D4F%2D4E19%2DA483%2D8EF7047A72B4%7D'}\n"
     ]
    }
   ],
   "source": [
    "post_request = open_session()"
   ]
  },
  {
   "cell_type": "code",
   "execution_count": 79,
   "metadata": {},
   "outputs": [
    {
     "name": "stdout",
     "output_type": "stream",
     "text": [
      "200\n"
     ]
    }
   ],
   "source": [
    "scrap_page('https://www.editorialmanager.com/nefro/default2.aspx', 'main_menu.html')"
   ]
  },
  {
   "cell_type": "code",
   "execution_count": 76,
   "metadata": {},
   "outputs": [
    {
     "name": "stdout",
     "output_type": "stream",
     "text": [
      "200\n"
     ]
    }
   ],
   "source": [
    "logout()"
   ]
  },
  {
   "cell_type": "code",
   "execution_count": 44,
   "metadata": {},
   "outputs": [
    {
     "name": "stdout",
     "output_type": "stream",
     "text": [
      "200\n"
     ]
    }
   ],
   "source": [
    "#change the role\n",
    "\n",
    "change_role_url = \"https://www.editorialmanager.com/nefro/Default.aspx?pg=EditorsMainMenu.aspx\"\n",
    "change_role_data = {\n",
    "    'RoleDropdown': 'editor',\n",
    "    '__EVENTTARGET': 'RoleDropdown',\n",
    "}\n",
    "\n",
    "headers = {\n",
    "    'Accept-Language': 'es-ES,es;q=0.9,en;q=0.8',\n",
    "    'Accept-Encoding': 'gzip, deflate, br',\n",
    "    'Accept': 'text/html,application/xhtml+xml,application/xml;q=0.9,image/webp,image/apng,*/*;q=0.8',\n",
    "    'Connection': 'keep-alive',\n",
    "}\n",
    "\n",
    "change_role_request = session.post(change_role_url, data=change_role_data, headers=headers, allow_redirects=True)\n",
    "print(change_role_request.status_code)"
   ]
  },
  {
   "cell_type": "code",
   "execution_count": 46,
   "metadata": {},
   "outputs": [
    {
     "name": "stdout",
     "output_type": "stream",
     "text": [
      "200\n"
     ]
    }
   ],
   "source": [
    "url_asignados = 'https://www.editorialmanager.com/nefro/AllAssignedSubmissions.aspx'\n",
    "response_asignados = session.get(url_asignados)\n",
    "print(response_asignados.status_code)\n",
    "\n",
    "soup = BeautifulSoup(response_asignados.content, features=\"html.parser\")\n",
    "#save the html\n",
    "with open(\"asignados.html\", \"w\") as file:\n",
    "    file.write(str(soup))"
   ]
  },
  {
   "attachments": {},
   "cell_type": "markdown",
   "metadata": {},
   "source": [
    "parece que aquí sólo hemos abierto la sesión pero no tenemos html. Llamo a una página a ver qué hay"
   ]
  },
  {
   "cell_type": "code",
   "execution_count": 36,
   "metadata": {},
   "outputs": [
    {
     "name": "stdout",
     "output_type": "stream",
     "text": [
      "200\n"
     ]
    }
   ],
   "source": [
    "url_main = \"https://www.editorialmanager.com/nefro/default2.aspx\"\n",
    "\n",
    "#set language as spanish\n",
    "headers = {\n",
    "    'Accept-Language': 'es-ES,es;q=0.9,en;q=0.8',\n",
    "    'Accept-Encoding': 'gzip, deflate, br',\n",
    "    'Accept': 'text/html,application/xhtml+xml,application/xml;q=0.9,image/webp,image/apng,*/*;q=0.8',\n",
    "    'Connection': 'keep-alive',\n",
    "}\n",
    "\n",
    "#call the page\n",
    "r = requests.post(url_main, data=login_data, headers=headers, cookies=cookies, allow_redirects=True)\n",
    "print(r.status_code)"
   ]
  },
  {
   "cell_type": "code",
   "execution_count": 61,
   "metadata": {},
   "outputs": [],
   "source": [
    "\n",
    "\n",
    "    return\n",
    "soup = BeautifulSoup(post_request.content, features=\"html.parser\")\n",
    "#save the page\n",
    "with open(\"page.html\", \"w\") as file:\n",
    "    file.write(str(soup))"
   ]
  },
  {
   "attachments": {},
   "cell_type": "markdown",
   "metadata": {},
   "source": [
    "ok, aquí estoy dentro pero como autor. Tengo que cambiar a roll de editor. Hay un desplegable con el nombre que permite cambiar de roll desde la página. Busco la llamada."
   ]
  },
  {
   "cell_type": "code",
   "execution_count": 38,
   "metadata": {},
   "outputs": [
    {
     "name": "stdout",
     "output_type": "stream",
     "text": [
      "500\n"
     ]
    }
   ],
   "source": [
    "url = \"https://www.editorialmanager.com/nefro/default2.aspx\"\n",
    "\n",
    "data = {\n",
    "    \"__EVENTTARGET\": \"RoleDropdown\",\n",
    "    \"RoleDropdown\": \"editor\",\n",
    "    # otros parámetros necesarios\n",
    "}\n",
    "headers = {\n",
    "    # encabezados necesarios\n",
    "    \"Cookie\": \"https://www.editorialmanager.com/nefro/default2.aspx\"\n",
    "}\n",
    "\n",
    "response = requests.post(url, data=data, headers=headers)\n",
    "print(response.status_code)\n"
   ]
  },
  {
   "cell_type": "code",
   "execution_count": 39,
   "metadata": {},
   "outputs": [],
   "source": [
    "#scrap the page\n",
    "soup = BeautifulSoup(r.content, features=\"html.parser\")\n",
    "#save the page\n",
    "with open(\"page.html\", \"w\") as file:\n",
    "    file.write(str(soup))"
   ]
  },
  {
   "cell_type": "code",
   "execution_count": 40,
   "metadata": {},
   "outputs": [
    {
     "name": "stdout",
     "output_type": "stream",
     "text": [
      "Solicitud de cambio de rol enviada con éxito\n"
     ]
    }
   ],
   "source": [
    "# Crea el diccionario con los datos a enviar\n",
    "data = {'RoleDropdown': 'editor'}\n",
    "\n",
    "# Envía la solicitud de cambio de rol\n",
    "response = requests.post('https://www.editorialmanager.com/nefro/default2.aspx', data=data)\n",
    "\n",
    "# Comprueba el código de estado de la respuesta\n",
    "if response.status_code == 200:\n",
    "    print(\"Solicitud de cambio de rol enviada con éxito\")\n",
    "else:\n",
    "    print(\"Error al enviar la solicitud de cambio de rol\")\n"
   ]
  },
  {
   "cell_type": "code",
   "execution_count": 41,
   "metadata": {},
   "outputs": [
    {
     "name": "stdout",
     "output_type": "stream",
     "text": [
      "200\n"
     ]
    }
   ],
   "source": [
    "#call the page\n",
    "r = requests.post(url_main, data=login_data, headers=headers, cookies=cookies, allow_redirects=True)\n",
    "print(r.status_code)\n",
    "#scrap the page\n",
    "soup = BeautifulSoup(r.content, features=\"html.parser\")\n",
    "#save the page\n",
    "with open(\"page.html\", \"w\") as file:\n",
    "    file.write(str(soup))"
   ]
  },
  {
   "cell_type": "code",
   "execution_count": null,
   "metadata": {},
   "outputs": [],
   "source": []
  },
  {
   "cell_type": "code",
   "execution_count": null,
   "metadata": {},
   "outputs": [],
   "source": []
  },
  {
   "cell_type": "code",
   "execution_count": 48,
   "metadata": {},
   "outputs": [
    {
     "name": "stdout",
     "output_type": "stream",
     "text": [
      "200\n"
     ]
    }
   ],
   "source": [
    "logout()"
   ]
  },
  {
   "cell_type": "code",
   "execution_count": null,
   "metadata": {},
   "outputs": [],
   "source": []
  }
 ],
 "metadata": {
  "kernelspec": {
   "display_name": "Python 3",
   "language": "python",
   "name": "python3"
  },
  "language_info": {
   "codemirror_mode": {
    "name": "ipython",
    "version": 3
   },
   "file_extension": ".py",
   "mimetype": "text/x-python",
   "name": "python",
   "nbconvert_exporter": "python",
   "pygments_lexer": "ipython3",
   "version": "3.10.8 (main, Oct 13 2022, 09:48:40) [Clang 14.0.0 (clang-1400.0.29.102)]"
  },
  "orig_nbformat": 4,
  "vscode": {
   "interpreter": {
    "hash": "b0fa6594d8f4cbf19f97940f81e996739fb7646882a419484c72d19e05852a7e"
   }
  }
 },
 "nbformat": 4,
 "nbformat_minor": 2
}
