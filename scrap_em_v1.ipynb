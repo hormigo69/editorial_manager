{
 "cells": [
  {
   "cell_type": "code",
   "execution_count": null,
   "metadata": {},
   "outputs": [],
   "source": []
  },
  {
   "attachments": {},
   "cell_type": "markdown",
   "metadata": {},
   "source": [
    "Desde aquí lo he sacado de un stackoverflow y funciona https://stackoverflow.com/questions/58667073/log-into-asp-net-web-application-with-python"
   ]
  },
  {
   "cell_type": "code",
   "execution_count": 1,
   "metadata": {},
   "outputs": [
    {
     "name": "stdout",
     "output_type": "stream",
     "text": [
      "200\n"
     ]
    }
   ],
   "source": [
    "import requests\n",
    "from bs4 import BeautifulSoup\n",
    "\n",
    "url = \"https://www.editorialmanager.com/nefro/LoginAction.ashx\" #este funciona\n",
    "#url = \"https://www.editorialmanager.com/nefro/Default.aspx?pg=EditorsMainMenu.aspx\"\n",
    "\n",
    "username = \"mariagps\"\n",
    "user_password = \"8Z4vn*!WTP\"\n",
    "\n",
    "session = requests.Session()\n",
    "response = session.get(url)\n",
    "print(response.status_code)\n",
    "soup = BeautifulSoup(response.content, features=\"html.parser\")\n",
    "#print(soup)\n",
    "\n",
    "\n"
   ]
  },
  {
   "cell_type": "code",
   "execution_count": 2,
   "metadata": {},
   "outputs": [
    {
     "name": "stdout",
     "output_type": "stream",
     "text": [
      "{'EMSessionID': '%7B0026F43E%2D6C68%2D45B1%2DAEAA%2D43751F44BE30%7D'}\n"
     ]
    }
   ],
   "source": [
    "states = [\"__RequestVerificationToken\", \"Email\", \"RememberMe\"]\n",
    "login_data = {\"username\": username, \"password\": user_password, \"Login\": \"submit\"}\n",
    "\n",
    "'''for state in states:  # search for existing aspnet states and get its values\n",
    "    result = soup.find('input', {'name': state})\n",
    "    if not (result is None):  # when existent (some may not be needed!)\n",
    "        if state == \"Email\":\n",
    "            login_data.update({state: login_data[\"username\"]})\n",
    "        else:\n",
    "            login_data.update({state: result['value']})\n",
    "'''\n",
    "\n",
    "post_request = session.post(url,  data=login_data, allow_redirects=False)\n",
    "\n",
    "#print(login_data)\n",
    "\n",
    "#the code below is testing, if the HttpAntiForgeryException is in code\n",
    "'''\n",
    "if \"HttpAntiForgeryException\" not in post_request.text:\n",
    "    print(post_request.headers)\n",
    "else:\n",
    "    print(\"antiforgery\")\n",
    "\n",
    "'''\n",
    "\n",
    "#print cookies\n",
    "cookies = session.cookies.get_dict()\n",
    "\n",
    "print(cookies)"
   ]
  },
  {
   "cell_type": "code",
   "execution_count": 16,
   "metadata": {},
   "outputs": [],
   "source": [
    "#set language as spanish\n",
    "headers = {\n",
    "    'Accept-Language': 'es-ES,es;q=0.9,en;q=0.8',\n",
    "    'Accept-Encoding': 'gzip, deflate, br',\n",
    "    'Accept': 'text/html,application/xhtml+xml,application/xml;q=0.9,image/webp,image/apng,*/*;q=0.8',\n",
    "    'Connection': 'keep-alive',\n",
    "}"
   ]
  },
  {
   "cell_type": "code",
   "execution_count": 17,
   "metadata": {},
   "outputs": [
    {
     "data": {
      "text/plain": [
       "<Response [200]>"
      ]
     },
     "execution_count": 17,
     "metadata": {},
     "output_type": "execute_result"
    }
   ],
   "source": [
    "#using this cookies to make a request to the page https://www.editorialmanager.com/nefro/AllAssignedSubmissions.aspx\n",
    "\n",
    "url_editor = \"https://www.editorialmanager.com/nefro/Default.aspx?pg=EditorsMainMenu.aspx\"\n",
    "#url_assigned = \"https://www.editorialmanager.com/nefro/AllAssignedSubmissions.aspx\"\n",
    "\n",
    "\n",
    "\n",
    "\n",
    "r = requests.post(url_editor, data=login_data, headers=headers, cookies=cookies, allow_redirects=True)\n",
    "r\n"
   ]
  },
  {
   "cell_type": "code",
   "execution_count": 18,
   "metadata": {},
   "outputs": [],
   "source": [
    "# scraping the page\n",
    "\n",
    "soup = BeautifulSoup(r.content, features=\"html.parser\")\n"
   ]
  },
  {
   "cell_type": "code",
   "execution_count": 19,
   "metadata": {},
   "outputs": [
    {
     "name": "stdout",
     "output_type": "stream",
     "text": [
      "<body id=\"mainBody\">\n",
      "<form action=\"./default2.aspx\" id=\"navMenuForm\" method=\"post\" name=\"navMenuForm\">\n",
      "<input id=\"__VIEWSTATE\" name=\"__VIEWSTATE\" type=\"hidden\" value=\"7Ggd5oziwYDGrsff2mY3ZDYkOcYtyXs79qvRP18AS7EwqadgZhUDhZ5R3/9GbYO+rHzKyHL5sGmogOeSw1Gjh1GuY8BsnHmKqalThctxzTMUuwF9\"/>\n",
      "<script src=\"/v17.0/webresources/CssSelector.js?r=22.13\" type=\"text/javascript\"></script>\n",
      "<script src=\"/v17.0/webresources/OpenPopupWindowMain.js?r=22.13\" type=\"text/javascript\"></script>\n",
      "<script src=\"/v17.0/webresources/jQueryAlerts.js?r=22.13\" type=\"text/javascript\"></script>\n",
      "<script src=\"/v17.0/webresources/ajax.js?r=22.13\" type=\"text/javascript\"></script>\n",
      "<input id=\"__VIEWSTATEGENERATOR\" name=\"__VIEWSTATEGENERATOR\" type=\"hidden\" value=\"D927AC87\"/>\n",
      "<div id=\"menuPage\">\n",
      "<header>\n",
      "<div id=\"navigationHeader\" style=\"background-color:#003462;\">\n",
      "<div id=\"userInfoBlock\" style=\"display:none;\">\n",
      "<div class=\"userInformation\" id=\"loggedInUserDiv\">\n",
      "<span id=\"userNameSpan\" tabindex=\"0\">\n",
      "<span class=\"userNameLabel\" id=\"lblUserFirstAndLastName\">María García-Puente</span>\n",
      "<span class=\"down-arrow\" id=\"downArrow\"></span>| </span>\n",
      "<div id=\"userLogOut\">\n",
      "<a class=\"white\" href=\"logout.asp\" id=\"logoutLink\" target=\"_top\">Cerrar sesión</a>\n",
      "</div>\n",
      "</div>\n",
      "<div class=\"pop\" id=\"userDetailPopup\" style=\"display:none;\" tabindex=\"-1\">\n",
      "<div class=\"user-info-firstrow\">\n",
      "<div class=\"user-info-left-div\" tabindex=\"0\">\n",
      "                                Nombre de usuario\n",
      "                            </div>\n",
      "<div class=\"user-info-right-div\" tabindex=\"0\">\n",
      "<span class=\"user-info-name\" id=\"lblUserName\">mariagps</span>\n",
      "</div>\n",
      "</div>\n",
      "<div class=\"user-info-row\">\n",
      "<div class=\"user-info-left-div dropdown-label\" tabindex=\"0\">\n",
      "                                Role\n",
      "                            </div>\n",
      "<div class=\"user-info-right-div\" tabindex=\"0\">\n",
      "<div class=\"custom-select-wrapper role-dropdown-wrapper\" id=\"ddlRoleWrapper\">\n",
      "<select class=\"custom-select\" id=\"RoleDropdown\" name=\"RoleDropdown\" onchange=\"closeSysAdmin();\">\n",
      "<option selected=\"selected\" title=\"Autor\" value=\"author\">Autor</option>\n",
      "<option title=\"Editor Asociado\" value=\"editor\">Editor Asociado</option>\n",
      "</select>\n",
      "</div>\n",
      "</div>\n",
      "</div>\n",
      "<div class=\"user-info-row\">\n",
      "<div class=\"user-info-left-div dropdown-label\" tabindex=\"0\">\n",
      "                                Site Language\n",
      "                            </div>\n",
      "<div class=\"user-info-right-div\" tabindex=\"0\">\n",
      "<div id=\"languageTogglePanel\">\n",
      "<div class=\"custom-select-wrapper language-dropdown-wrapper\" id=\"ddlLanguagesWrapper\">\n",
      "<select class=\"custom-select\" id=\"ddlLanguages\" name=\"ddlLanguages\" onchange=\"javascript:ChangeLanguage(this.options[this.selectedIndex].value);return false;\">\n",
      "<option value=\"en-US\">English</option>\n",
      "<option selected=\"selected\" value=\"es-ES\">Español</option>\n",
      "</select>\n",
      "</div>\n",
      "<script type=\"text/javascript\">\n",
      "</script>\n",
      "</div>\n",
      "</div>\n",
      "</div>\n",
      "<div class=\"user-info-row\" id=\"updateMyInfo\"> <div class=\"user-info-left-div dropdown-label\"><a aria-label=\"Actualizar mis datos\" href=\"info_update.asp\" id=\"UpdateMyInformation\" name=\"UpdateMyInformation\" onclick=\"return checkLinkState(this);\" target=\"content\">Actualizar mis datos</a></div></div>\n",
      "</div>\n",
      "</div>\n",
      "<div id=\"logoImageDiv\">\n",
      "<a href=\"http://www.editorialmanager.com/\" id=\"brandingLink\" target=\"_blank\"><img alt=\"Editorial Manager\" border=\"0\" height=\"40\" id=\"logoImage\" src=\"/v17.0/webresources/em_navbar_logo.png?r=22.13\" title=\"Versión 17.0, Servidor de datos NSHP12.ARIESSYS.COM\" width=\"40\"/></a>\n",
      "<span class=\"sep_line\"></span>\n",
      "<img border=\"0\" height=\"40\" id=\"journalLogo\" onerror=\"hideJournalLogo();return;\" src=\"customJournalLogo.aspx\" width=\"40\"/>\n",
      "</div>\n",
      "<div id=\"journalInfoDiv\">\n",
      "<h1 id=\"journalName\" role=\"banner\">NEFROLOGIA</h1>\n",
      "</div>\n",
      "<div class=\"em-announcement-pop announce-pop\" tabindex=\"0\">\n",
      "<div id=\"close-and-scroll-announcement\" tabindex=\"0\">\n",
      "<div class=\"close-round\" id=\"close-em-announcement\"><span class=\"close-x\">x</span></div>\n",
      "</div>\n",
      "<div class=\"em-announcement-content\" id=\"emAnnouncementContentDiv\" tabindex=\"0\">\n",
      "<div id=\"emAnnouncementContent\" style=\"margin-right: 15px;\"></div>\n",
      "</div>\n",
      "</div>\n",
      "</div>\n",
      "</header>\n",
      "<nav>\n",
      "<div class=\"responsive-buttons\">\n",
      "<div id=\"hamBurger\" style=\"display:none\">\n",
      "</div>\n",
      "<div id=\"userIcon\">\n",
      "</div>\n",
      "</div>\n",
      "<div class=\"menuClosed\" id=\"menuContainer\">\n",
      "<ul class=\"ui-menu ui-widget ui-widget-content\" id=\"navMenu\" style=\"display: flex;\"><li class=\"root-menu ui-menu-item\" id=\"1\" role=\"menuitem\"><a aria-label=\"Inicio\" href=\"mainpage.html\" id=\"Home\" name=\"Home\" onclick='return checkLinkState(this,\"mainpage.html\");' target=\"content\">Inicio</a> </li> <li class=\"root-menu ui-menu-item\" id=\"8\" role=\"menuitem\"><a aria-label=\"Menú principal\" href=\"manuscript_status.asp\" id=\"MainMenu\" name=\"MainMenu\" onclick='return checkLinkState(this,\"manuscript_status.asp\");' target=\"content\">Menú principal</a> </li> <li class=\"root-menu ui-menu-item\" id=\"10\" role=\"menuitem\"><a aria-label=\"Enviar un manuscrito\" href=\"submit_manuscript.asp\" id=\"SubmitaManuscript\" name=\"SubmitaManuscript\" onclick='return checkLinkState(this,\"submit_manuscript.asp\");' target=\"content\">Enviar un manuscrito</a> </li> <li class=\"root-menu ui-menu-item\" id=\"13\" role=\"menuitem\"><a class=\"has-arrow\" id=\"About\" name=\"About\" onclick='return checkLinkState(this,\"\");' target=\"_self\">About</a> <ul aria-haspopup=\"true\" class=\"menu-level-1\"> <li class=\"ui-menu-item\" id=\"7\" role=\"menuitem\"><a aria-label=\"Acerca de la revista\" href=\"http://www.revistanefrologia.com/modules.php?name=home\" id=\"JournalOverview\" name=\"JournalOverview\" onclick='return checkLinkState(this,\"http://www.revistanefrologia.com/modules.php?name=home\");' target=\"_blank\">Acerca de la revista</a> </li> <li class=\"ui-menu-item\" id=\"11\" role=\"menuitem\"><a aria-label=\"Instrucciones a los autores\" href=\"http://apps.elsevier.es/ficheros/NormOrga/100normas.pdf\" id=\"InstructionsForAuthors\" name=\"InstructionsForAuthors\" onclick='return checkLinkState(this,\"http://apps.elsevier.es/ficheros/NormOrga/100normas.pdf\");' target=\"_blank\">Instrucciones a los autores</a> </li> <li class=\"ui-menu-item\" id=\"9\" role=\"menuitem\"><a aria-label=\"Contact\" href=\"https://service.elsevier.com/app/home/supporthub/publishing/\" id=\"ContactUs\" name=\"ContactUs\" onclick='return checkLinkState(this,\"https://service.elsevier.com/app/home/supporthub/publishing/\");' target=\"_blank\">Contact</a> </li> <li class=\"ui-menu-item\" id=\"12\" role=\"menuitem\"><a aria-label=\"POLICIES\" id=\"Privacy\" name=\"Privacy\" onclick='return openPrivacyWindow(this,\"PrivacyPolicy.aspx\");' target=\"_blank\">POLICIES</a> </li> </ul> </li> <li class=\"root-menu ui-menu-item\" id=\"14\" role=\"menuitem\"><a class=\"has-arrow\" id=\"HelpMenuGroup\" name=\"HelpMenuGroup\" onclick='return checkLinkState(this,\"\");' target=\"_self\">Ayuda</a> <ul aria-haspopup=\"true\" class=\"menu-level-1\"> <li class=\"ui-menu-item\" id=\"4\" role=\"menuitem\"><a aria-label=\"System Help\" id=\"Help\" name=\"Help\" onclick='return openHelp(this,\"/robohelp/17.0/index.htm\");' target=\"_blank\">System Help</a> </li> <li class=\"ui-menu-item\" id=\"15\" role=\"menuitem\"><a aria-label=\"Video Tutorials\" href=\"https://www.ariessys.com/views-and-press/resources/video-library/\" id=\"VideoTutorials\" name=\"VideoTutorials\" onclick='return checkLinkState(this,\"https://www.ariessys.com/views-and-press/resources/video-library/\");' target=\"_blank\">Video Tutorials</a> </li> </ul> </li></ul>\n",
      "</div>\n",
      "</nav>\n",
      "</div>\n",
      "<banner>\n",
      "<div class=\"implMessageBanner\" id=\"implMessage\" style=\"display: none;\" tabindex=\"0\">\n",
      "<table id=\"Table1\" style=\"border: 0px; width: 100%; height: 100%\">\n",
      "<tr>\n",
      "<td style=\"vertical-align: middle;\">\n",
      "<span id=\"implemenationMessageBanner\" style=\"font-weight: bold; color: white;\">Mensaje importante: Sitio web en proceso de desarrollo. No usar para la presentación directa de manuscritos.</span>\n",
      "</td>\n",
      "</tr>\n",
      "</table>\n",
      "</div>\n",
      "<div class=\"proxyBanner\" id=\"proxy\" style=\"display: none;\" tabindex=\"0\">\n",
      "<table style=\"border: 0px; width: 100%\">\n",
      "<tbody>\n",
      "<tr>\n",
      "<td style=\"vertical-align: middle; font-weight: bold\">\n",
      "<span id=\"ProxyFor\"></span>\n",
      "</td>\n",
      "<td style=\"text-align: right; vertical-align: middle; font-size: 80%;\">\n",
      "                            To exit proxy mode, click 'Cerrar sesión'\n",
      "                            \n",
      "                        </td>\n",
      "</tr>\n",
      "</tbody>\n",
      "</table>\n",
      "</div>\n",
      "</banner>\n",
      "<main>\n",
      "<div id=\"contentDiv\">\n",
      "<iframe id=\"content\" name=\"content\" style=\"overflow: auto;\"></iframe>\n",
      "</div>\n",
      "</main>\n",
      "<footer>\n",
      "<div id=\"footerDiv\" style=\"position: absolute;\">\n",
      "<div id=\"timeZone\" role=\"footer\" style=\"display: none;\">\n",
      "<span id=\"local\" style=\"color: #FFFFFF;\"></span> <span id=\"divider\" style=\"color: #FFFFFF;\"></span> <span id=\"server\"></span>\n",
      "</div>\n",
      "<div id=\"dataPrivacy\" style=\"display: none;\">\n",
      "<span id=\"copyrightInfo\"></span>\n",
      "<a id=\"ariesCopyright\" target=\"_blank\"></a>\n",
      "                | \n",
      "                    <a id=\"publisherCopyright\" target=\"_blank\"></a>\n",
      "</div>\n",
      "<!-- TODO: ELS_dp_foot.asp or the pages which is configured in prod needs to placed in tc frame and remove te content from div.id=dataPrivacy -->\n",
      "</div>\n",
      "</footer>\n",
      "<div id=\"hiddenFieldsDiv\">\n",
      "<input id=\"roleString_author\" name=\"roleString_author\" type=\"hidden\" value=\"Author\"/>\n",
      "<input id=\"menu_author\" name=\"menu_author\" type=\"hidden\" value=\"AuthorMainMenu.aspx\"/>\n",
      "<input id=\"roleString_reviewer\" name=\"roleString_reviewer\" type=\"hidden\"/>\n",
      "<input id=\"menu_reviewer\" name=\"menu_reviewer\" type=\"hidden\"/>\n",
      "<input id=\"roleString_editor\" name=\"roleString_editor\" type=\"hidden\" value=\"Editor Asociado\"/>\n",
      "<input id=\"menu_editor\" name=\"menu_editor\" type=\"hidden\" value=\"EditorsMainMenu.aspx\"/>\n",
      "<input id=\"roleString_publisher\" name=\"roleString_publisher\" type=\"hidden\"/>\n",
      "<input id=\"menu_publisher\" name=\"menu_publisher\" type=\"hidden\"/>\n",
      "<input id=\"userRoleCaption\" name=\"userRoleCaption\" type=\"hidden\"/>\n",
      "<input id=\"userRolePostScript\" name=\"userRolePostScript\" type=\"hidden\"/>\n",
      "<input name=\"admin\" type=\"hidden\" value=\"false\"/>\n",
      "<input name=\"roleChanged\" type=\"hidden\" value=\"false\"/>\n",
      "<input id=\"authorizedCount\" name=\"authorizedCount\" type=\"hidden\" value=\"0\"/>\n",
      "</div>\n",
      "</form>\n",
      "</body>\n"
     ]
    }
   ],
   "source": [
    "#print body\n",
    "print(soup.body)"
   ]
  },
  {
   "attachments": {},
   "cell_type": "markdown",
   "metadata": {},
   "source": [
    "Ojo, que parece que estoy dentro"
   ]
  },
  {
   "cell_type": "code",
   "execution_count": 20,
   "metadata": {},
   "outputs": [
    {
     "data": {
      "text/plain": [
       "<Response [200]>"
      ]
     },
     "execution_count": 20,
     "metadata": {},
     "output_type": "execute_result"
    }
   ],
   "source": [
    "#go to menu principal\n",
    "url_menu = 'https://www.editorialmanager.com/nefro/manuscript_status.asp'\n",
    "r = requests.post(url_menu, data=login_data, headers=headers, cookies=cookies, allow_redirects=True)\n",
    "r"
   ]
  },
  {
   "cell_type": "code",
   "execution_count": 21,
   "metadata": {},
   "outputs": [
    {
     "data": {
      "text/plain": [
       "<Response [200]>"
      ]
     },
     "execution_count": 21,
     "metadata": {},
     "output_type": "execute_result"
    }
   ],
   "source": [
    "#go the assigned table\n",
    "url_assigned = \"https://www.editorialmanager.com/nefro/AllAssignedSubmissions.aspx\"\n",
    "\n",
    "r = requests.post(url_assigned, data=login_data, headers=headers, cookies=cookies, allow_redirects=True)\n",
    "r"
   ]
  },
  {
   "cell_type": "code",
   "execution_count": 22,
   "metadata": {},
   "outputs": [
    {
     "name": "stdout",
     "output_type": "stream",
     "text": [
      "<body>\n",
      "<div class=\"left_side\">\n",
      "<h3>\n",
      "<span id=\"_pageHeader\">Advertencia de seguridad</span>\n",
      "</h3>\n",
      "</div>\n",
      "<div class=\"right_side\">\n",
      "<div class=\"warningbox\">\n",
      "<span id=\"errorMsg\">Tiene que iniciar sesión como editor para acceder a la página solicitada.</span>\n",
      "</div>\n",
      "</div>\n",
      "</body>\n"
     ]
    }
   ],
   "source": [
    "#scraping the page\n",
    "\n",
    "soup = BeautifulSoup(r.content, features=\"html.parser\")\n",
    "\n",
    "#print body\n",
    "print(soup.body)"
   ]
  },
  {
   "attachments": {},
   "cell_type": "markdown",
   "metadata": {},
   "source": [
    "# bueno, he entrado como autor, pero estoy dentro ;)"
   ]
  },
  {
   "cell_type": "code",
   "execution_count": null,
   "metadata": {},
   "outputs": [],
   "source": []
  }
 ],
 "metadata": {
  "kernelspec": {
   "display_name": "Python 3",
   "language": "python",
   "name": "python3"
  },
  "language_info": {
   "codemirror_mode": {
    "name": "ipython",
    "version": 3
   },
   "file_extension": ".py",
   "mimetype": "text/x-python",
   "name": "python",
   "nbconvert_exporter": "python",
   "pygments_lexer": "ipython3",
   "version": "3.10.8 (main, Oct 13 2022, 09:48:40) [Clang 14.0.0 (clang-1400.0.29.102)]"
  },
  "orig_nbformat": 4,
  "vscode": {
   "interpreter": {
    "hash": "b0fa6594d8f4cbf19f97940f81e996739fb7646882a419484c72d19e05852a7e"
   }
  }
 },
 "nbformat": 4,
 "nbformat_minor": 2
}
