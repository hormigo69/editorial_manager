{
 "cells": [
  {
   "cell_type": "code",
   "execution_count": 59,
   "metadata": {},
   "outputs": [
    {
     "name": "stdout",
     "output_type": "stream",
     "text": [
      "200\n",
      "{'EMSessionID': '%7BFF821C1E%2DAA2C%2D4F14%2D8DF8%2DB8C3D39B0FED%7D'}\n"
     ]
    }
   ],
   "source": [
    "import requests\n",
    "from bs4 import BeautifulSoup\n",
    "\n",
    "username = \"mariagps\"\n",
    "user_password = \"8Z4vn*!WTP\"\n",
    "role = \"editor\"\n",
    "login_data = {\"username\": username, \"password\": user_password,  \"role\": \"editor\",\n",
    "              \"hdnManuscriptServicesDisplayed\" : \"false\",   'hdnNeedMultipLoginDropdown' : 0,\n",
    "              'hdnOrcidIsAuthenticated' : 'False', 'hdnOrcidIsDuplicateEmail' : 'False',\n",
    "              'hdnSsoLoginEnabled' : 'False', 'hdnUseOrcideLogin' : 'True', 'ignoreWarning' : 0,\n",
    "              'initiateAscoLogin' : 'False', 'orcidAuthenticated' : 0, 'orcidLogin' : 0\n",
    " }\n",
    "#login_data = {\"username\": username, \"password\": user_password, \"Login\": \"submit\", \"role\": \"editor\"}\n",
    "headers = {\n",
    "'Accept-Language': 'es-ES,es;q=0.9,en;q=0.8',\n",
    "'Accept-Encoding': 'gzip, deflate, br',\n",
    "'Accept': '*/*',\n",
    "'Connection': 'keep-alive',\n",
    "'sec-ch-ua' : '\"Not?A_Brand\";v=\"8\", \"Chromium\";v=\"108\", \"Google Chrome\";v=\"108\"',\n",
    "'sec-ch-ua-mobile' : '?0',\n",
    "'sec-ch-ua-platform' : '\"Windows\"',\n",
    "'DNT' : '1',\n",
    "'Upgrade-Insecure-Requests' : '1',\n",
    "'Content-Type' : 'application/x-www-form-urlencoded',\n",
    "'User-Agent' : 'Mozilla/5.0 (Windows NT 10.0; Win64; x64) AppleWebKit/537.36 (KHTML, like Gecko) Chrome/88.0.4324.190 Safari/537.36',\n",
    "\n",
    "}\n",
    "\n",
    "## login \n",
    "\n",
    "url = \"https://www.editorialmanager.com/nefro/LoginAction.ashx\" #este funciona\n",
    "\n",
    "session = requests.Session()\n",
    "response = session.get(url)\n",
    "print(response.status_code)\n",
    "#soup = BeautifulSoup(response.content, features=\"html.parser\")\n",
    "#print(soup)\n",
    "states = [\"__RequestVerificationToken\", \"Email\", \"RememberMe\"]\n",
    "\n",
    "\n",
    "post_request = session.post(url,  data=login_data, headers=headers, allow_redirects=True)\n",
    "\n",
    "#print cookies\n",
    "cookies = session.cookies.get_dict()\n",
    "print(cookies)\n"
   ]
  },
  {
   "cell_type": "code",
   "execution_count": 60,
   "metadata": {},
   "outputs": [
    {
     "name": "stdout",
     "output_type": "stream",
     "text": [
      "{'Date': 'Wed, 11 Jan 2023 16:01:05 GMT', 'Server': 'Microsoft-IIS/8.0', 'Cache-Control': 'private', 'Content-Type': 'text/html; charset=utf-8', 'X-AspNet-Version': '4.0.30319', 'X-Powered-By': 'ASP.NET', 'X-UA-Compatible': 'IE=Edge', 'Content-Security-Policy': \"frame-ancestors 'self' https://*.editorialmanager.com http://*.editorialmanager.com https://*.ariessc.com http://*.ariessc.com;\", 'X-XSS-Protection': '1', 'Content-Encoding': 'gzip', 'Vary': 'Accept-Encoding', 'Transfer-Encoding': 'chunked', 'Connection': 'Keep-alive', 'Via': '1.1 ID-0016035545455034 uproxy-14'}\n",
      "utf-8\n"
     ]
    }
   ],
   "source": [
    "print(response.headers)\n",
    "print(response.encoding)"
   ]
  },
  {
   "cell_type": "code",
   "execution_count": 61,
   "metadata": {},
   "outputs": [],
   "source": [
    "#save html\n",
    "with open(\"login.html\", \"w\") as f:\n",
    "    f.write(post_request.text)\n"
   ]
  },
  {
   "attachments": {},
   "cell_type": "markdown",
   "metadata": {},
   "source": [
    "No veo el html de la página, parece sólo js"
   ]
  },
  {
   "cell_type": "code",
   "execution_count": 62,
   "metadata": {},
   "outputs": [],
   "source": [
    "#call the main page and save html\n",
    "url = \"https://www.editorialmanager.com/nefro/default2.aspx\"\n",
    "response = session.get(url)\n",
    "with open(\"main.html\", \"w\") as f:\n",
    "    f.write(response.text)"
   ]
  },
  {
   "attachments": {},
   "cell_type": "markdown",
   "metadata": {},
   "source": [
    "Aquí parece que entro en la página, no me muestra la cabecera pero no hay un link de login, así que asumo que estoy logueado. Pruebo a meterme en Menú ppal"
   ]
  },
  {
   "cell_type": "code",
   "execution_count": 63,
   "metadata": {},
   "outputs": [],
   "source": [
    "#call manin menu and save html\n",
    "url = 'https://www.editorialmanager.com/nefro/manuscript_status.asp'\n",
    "response = session.get(url)\n",
    "with open(\"menu.html\", \"w\") as f:\n",
    "    f.write(response.text)"
   ]
  },
  {
   "attachments": {},
   "cell_type": "markdown",
   "metadata": {},
   "source": [
    "Efectivamente, entro en el Menú ppal de autor"
   ]
  },
  {
   "attachments": {},
   "cell_type": "markdown",
   "metadata": {},
   "source": [
    "Pruebo a hacer logout y a imprimir la página"
   ]
  },
  {
   "cell_type": "code",
   "execution_count": 64,
   "metadata": {},
   "outputs": [
    {
     "data": {
      "text/plain": [
       "\"url_logout = 'https://www.editorialmanager.com/nefro/logout.asp'\\n#call the page\\nr = requests.post(url_logout, data=login_data, cookies=cookies, allow_redirects=True)\\nprint(r.status_code)\\n#save the html\\nwith open('logout.html', 'w') as f:\\n    f.write(r.text)\""
      ]
     },
     "execution_count": 64,
     "metadata": {},
     "output_type": "execute_result"
    }
   ],
   "source": [
    "'''url_logout = 'https://www.editorialmanager.com/nefro/logout.asp'\n",
    "#call the page\n",
    "r = requests.post(url_logout, data=login_data, cookies=cookies, allow_redirects=True)\n",
    "print(r.status_code)\n",
    "#save the html\n",
    "with open('logout.html', 'w') as f:\n",
    "    f.write(r.text)'''"
   ]
  },
  {
   "attachments": {},
   "cell_type": "markdown",
   "metadata": {},
   "source": [
    "perfect. Si imprimo ahora main menu me lleva a inicio de sesión. :)\n",
    "\n",
    "Ya sé hacer login y logout de la web pero en la página de autor. Tengo que cambiar a editor."
   ]
  },
  {
   "cell_type": "code",
   "execution_count": 65,
   "metadata": {},
   "outputs": [
    {
     "name": "stdout",
     "output_type": "stream",
     "text": [
      "200\n"
     ]
    }
   ],
   "source": [
    "#url = \"https://www.editorialmanager.com/nefro/Default.aspx?pg=EditorsMainMenu.aspx\"\n",
    "#url = \"https://www.editorialmanager.com/nefro/default2.aspx\"\n",
    "url = \"https://www.editorialmanager.com/nefro/manuscript_status.asp\"\n",
    "data = {'role': 'editor',}\n",
    " #   '__EVENTTARGET': 'RoleDropdown',\n",
    "#add defaultMenu to cookies: defaultMenu=0; Path=/nefro/; Domain=editorialmanager.com; Secure;\n",
    "cookies['defaultMenu'] = '0'\n",
    "cookies['CurrentLang'] = 'es-ES'\n",
    "cookies['Path'] = '/nefro/'\n",
    "cookies['Domain'] = 'editorialmanager.com'\n",
    "\n",
    "\n",
    "headers = {\n",
    "    'Accept': '*/*',\n",
    "    'Accept-Encoding': 'gzip, deflate, br',\n",
    "    \n",
    "    'Connection': 'keep-alive',\n",
    "    'Content-Type': 'application/x-www-form-urlencoded',\n",
    "    #add the cookie from the variable cookies\n",
    "    'Cookie': 'CurrentLang=es-ES; EMSessionID='+cookies['EMSessionID'],\n",
    "    #'Cookie': 'CurrentLang=es-ES; EMSessionID=%7B72CDCD21%2D8534%2D4800%2D9B32%2D719C1E125623%7D'\n",
    "}\n",
    "\n",
    "response = session.post(url, data=data, headers=headers, cookies=cookies, allow_redirects=True)\n",
    "print(response.status_code)\n",
    "\n",
    "with open(\"Role_editor.html\", \"w\") as f:\n",
    "    f.write(response.text)\n",
    "\n"
   ]
  },
  {
   "cell_type": "code",
   "execution_count": 66,
   "metadata": {},
   "outputs": [
    {
     "name": "stdout",
     "output_type": "stream",
     "text": [
      "200\n"
     ]
    }
   ],
   "source": [
    "#manuscritos asignados\n",
    "url = 'https://www.editorialmanager.com/nefro/AllAssignedSubmissions.aspx'\n",
    "\n",
    "response = session.post(url, data=data, headers=headers, cookies=cookies, allow_redirects=True)\n",
    "print(response.status_code)\n",
    "\n",
    "with open(\"manuscritos_asignados.html\", \"w\") as f:\n",
    "    f.write(response.text)\n"
   ]
  },
  {
   "attachments": {},
   "cell_type": "markdown",
   "metadata": {},
   "source": [
    "No lo veo en el navegador, pero parece que sí que me he traído el html de manuscritos asignados. Intento scrapearlo.\n",
    "\n",
    "Lo que necesito está dentro de un iframe #document ==$0"
   ]
  },
  {
   "cell_type": "code",
   "execution_count": 138,
   "metadata": {},
   "outputs": [],
   "source": [
    "#Using regular expressions find all the occurrences between the tags <td class=\\'  \\' style=\\'vertical-align: middle;;\\'> and </td>\n",
    "import re\n",
    "#extract from body\n",
    "with open(\"manuscritos_asignados.html\", \"r\") as f:\n",
    "    body = f.read()\n",
    "    #print(body)\n",
    "    #find all the occurrences between the tags <td class=\\'  \\' style=\\'vertical-align: middle;;\\'> and </td>\n",
    "    #pattern = re.compile(r'<td class=\\'  \\' style=\\'vertical-align: middle;;\\'>.*?</td>')\n",
    "    pattern = re.compile(r'<td class=\\'  \\' style=\\'vertical-align: middle;;\\'>.*?</td>')\n",
    "    matches = pattern.findall(body)\n",
    "    #print(matches)\n"
   ]
  },
  {
   "cell_type": "code",
   "execution_count": 139,
   "metadata": {},
   "outputs": [
    {
     "name": "stdout",
     "output_type": "stream",
     "text": [
      "<td class='  ' style='vertical-align: middle;;'>NEFRO-D-23-00011<td class='  ' style='vertical-align: middle;;'>Original<td class='  ' style='vertical-align: middle;;'>RELATIONSHIP BETWEEN U-MMP7 AND PROGNOSIS, COMORBIDITY AND MORTALITY IN AKI<td class='  ' style='vertical-align: middle;text-align: center;'>Fadime Altinbas <td class='  ' style='vertical-align: middle;;'>11/01/2023<td class='  ' style='vertical-align: middle;;'>11/01/2023<td class='  ' style='vertical-align: middle;;'>Pendiente del Editor<td class='  ' style='vertical-align: middle;;'>Mariano Rodriguez<td class='  ' style='vertical-align: middle;;'><td class='  ' style='vertical-align: middle;;'><td class='colresize-cell  ' style=';'></td>\n"
     ]
    }
   ],
   "source": [
    "print (matches[0])"
   ]
  },
  {
   "cell_type": "code",
   "execution_count": 158,
   "metadata": {},
   "outputs": [],
   "source": [
    "#create a dataframe called df_Asignados with the columns: numero_manuscrito, tipo_articulo, titulo, autor, fecha_inicial, fecha_estado, estado_actual, editor, estado_evaluacion, decision_editor\n",
    "import pandas as pd\n",
    "df_asignados = pd.DataFrame(columns=['numero_manuscrito', 'tipo_articulo', 'titulo', 'autor', 'fecha_inicial', 'fecha_estado', 'estado_actual', 'editor', 'estado_evaluacion', 'decision_editor'])\n"
   ]
  },
  {
   "cell_type": "code",
   "execution_count": 159,
   "metadata": {},
   "outputs": [
    {
     "data": {
      "text/html": [
       "<div>\n",
       "<style scoped>\n",
       "    .dataframe tbody tr th:only-of-type {\n",
       "        vertical-align: middle;\n",
       "    }\n",
       "\n",
       "    .dataframe tbody tr th {\n",
       "        vertical-align: top;\n",
       "    }\n",
       "\n",
       "    .dataframe thead th {\n",
       "        text-align: right;\n",
       "    }\n",
       "</style>\n",
       "<table border=\"1\" class=\"dataframe\">\n",
       "  <thead>\n",
       "    <tr style=\"text-align: right;\">\n",
       "      <th></th>\n",
       "      <th>numero_manuscrito</th>\n",
       "      <th>tipo_articulo</th>\n",
       "      <th>titulo</th>\n",
       "      <th>autor</th>\n",
       "      <th>fecha_inicial</th>\n",
       "      <th>fecha_estado</th>\n",
       "      <th>estado_actual</th>\n",
       "      <th>editor</th>\n",
       "      <th>estado_evaluacion</th>\n",
       "      <th>decision_editor</th>\n",
       "    </tr>\n",
       "  </thead>\n",
       "  <tbody>\n",
       "    <tr>\n",
       "      <th>0</th>\n",
       "      <td>NEFRO-D-23-00011</td>\n",
       "      <td>Original</td>\n",
       "      <td>RELATIONSHIP BETWEEN U-MMP7 AND PROGNOSIS, COM...</td>\n",
       "      <td>Fadime Altinbas</td>\n",
       "      <td>11/01/2023</td>\n",
       "      <td>11/01/2023</td>\n",
       "      <td>Pendiente del Editor</td>\n",
       "      <td>Mariano Rodriguez</td>\n",
       "      <td></td>\n",
       "      <td>&lt;td class='colresize-cell  ' style=';'&gt;&lt;/td&gt;</td>\n",
       "    </tr>\n",
       "    <tr>\n",
       "      <th>1</th>\n",
       "      <td>NEFRO-D-23-00010</td>\n",
       "      <td>Original</td>\n",
       "      <td>The Association of Vitamin D Supplementation i...</td>\n",
       "      <td>Ilhan Kilic, M.D.</td>\n",
       "      <td>09/01/2023</td>\n",
       "      <td>10/01/2023</td>\n",
       "      <td>Pendiente del Editor</td>\n",
       "      <td>Mariano Rodriguez</td>\n",
       "      <td></td>\n",
       "      <td>&lt;td class='colresize-cell  ' style=';'&gt;&lt;/td&gt;</td>\n",
       "    </tr>\n",
       "    <tr>\n",
       "      <th>2</th>\n",
       "      <td>NEFRO-D-23-00009</td>\n",
       "      <td>Notas técnicas</td>\n",
       "      <td>Actualización en el tratamiento con fluidos de...</td>\n",
       "      <td>Alejandro Gonzalez-Castro, Ph.D, M.D.</td>\n",
       "      <td>09/01/2023</td>\n",
       "      <td>10/01/2023</td>\n",
       "      <td>Pendiente del Editor</td>\n",
       "      <td>Mariano Rodriguez</td>\n",
       "      <td></td>\n",
       "      <td>&lt;td class='colresize-cell  ' style=';'&gt;&lt;/td&gt;</td>\n",
       "    </tr>\n",
       "    <tr>\n",
       "      <th>3</th>\n",
       "      <td>NEFRO-D-23-00008</td>\n",
       "      <td>Original</td>\n",
       "      <td>Correlation of Luminex-based single-antigen-ba...</td>\n",
       "      <td>Suleyman Rustu Rustu Oguz, MD PhD</td>\n",
       "      <td>06/01/2023</td>\n",
       "      <td>09/01/2023</td>\n",
       "      <td>Pendiente del Editor</td>\n",
       "      <td>Mariano Rodriguez</td>\n",
       "      <td></td>\n",
       "      <td>&lt;td class='colresize-cell  ' style=';'&gt;&lt;/td&gt;</td>\n",
       "    </tr>\n",
       "    <tr>\n",
       "      <th>4</th>\n",
       "      <td>NEFRO-D-23-00006</td>\n",
       "      <td>Original</td>\n",
       "      <td>Therapeutic adherence in kidney transplanted a...</td>\n",
       "      <td>Ana Barbosa Rodrigues</td>\n",
       "      <td>04/01/2023</td>\n",
       "      <td>05/01/2023</td>\n",
       "      <td>Pendiente del Editor</td>\n",
       "      <td>Mariano Rodriguez</td>\n",
       "      <td></td>\n",
       "      <td>&lt;td class='colresize-cell  ' style=';'&gt;&lt;/td&gt;</td>\n",
       "    </tr>\n",
       "  </tbody>\n",
       "</table>\n",
       "</div>"
      ],
      "text/plain": [
       "  numero_manuscrito   tipo_articulo  \\\n",
       "0  NEFRO-D-23-00011        Original   \n",
       "1  NEFRO-D-23-00010        Original   \n",
       "2  NEFRO-D-23-00009  Notas técnicas   \n",
       "3  NEFRO-D-23-00008        Original   \n",
       "4  NEFRO-D-23-00006        Original   \n",
       "\n",
       "                                              titulo  \\\n",
       "0  RELATIONSHIP BETWEEN U-MMP7 AND PROGNOSIS, COM...   \n",
       "1  The Association of Vitamin D Supplementation i...   \n",
       "2  Actualización en el tratamiento con fluidos de...   \n",
       "3  Correlation of Luminex-based single-antigen-ba...   \n",
       "4  Therapeutic adherence in kidney transplanted a...   \n",
       "\n",
       "                                    autor fecha_inicial fecha_estado  \\\n",
       "0                        Fadime Altinbas     11/01/2023   11/01/2023   \n",
       "1                      Ilhan Kilic, M.D.     09/01/2023   10/01/2023   \n",
       "2  Alejandro Gonzalez-Castro, Ph.D, M.D.     09/01/2023   10/01/2023   \n",
       "3      Suleyman Rustu Rustu Oguz, MD PhD     06/01/2023   09/01/2023   \n",
       "4                  Ana Barbosa Rodrigues     04/01/2023   05/01/2023   \n",
       "\n",
       "          estado_actual             editor estado_evaluacion  \\\n",
       "0  Pendiente del Editor  Mariano Rodriguez                     \n",
       "1  Pendiente del Editor  Mariano Rodriguez                     \n",
       "2  Pendiente del Editor  Mariano Rodriguez                     \n",
       "3  Pendiente del Editor  Mariano Rodriguez                     \n",
       "4  Pendiente del Editor  Mariano Rodriguez                     \n",
       "\n",
       "                                decision_editor  \n",
       "0  <td class='colresize-cell  ' style=';'></td>  \n",
       "1  <td class='colresize-cell  ' style=';'></td>  \n",
       "2  <td class='colresize-cell  ' style=';'></td>  \n",
       "3  <td class='colresize-cell  ' style=';'></td>  \n",
       "4  <td class='colresize-cell  ' style=';'></td>  "
      ]
     },
     "execution_count": 159,
     "metadata": {},
     "output_type": "execute_result"
    }
   ],
   "source": [
    "#print value 1 from the matches 1\n",
    "for i in range(len(matches)):\n",
    "    pattern = re.compile(r'<td class=\\'  \\' style=\\'vertical-align: middle;;\\'>')\n",
    "    values = pattern.split(matches[i])\n",
    "    #remove the first element\n",
    "    values.pop(0)\n",
    "    #print(values[1])\n",
    "    for j in range (len(values)):\n",
    "        #print(j, values[j])\n",
    "        #if the value is the titulo, split in two and save in the corresponding column\n",
    "        if j == 2:\n",
    "            #split in two the string by <td class='  ' style='vertical-align: middle;text-align: center;'> \n",
    "            pattern = re.compile(r'<td class=\\'  \\' style=\\'vertical-align: middle;text-align: center;\\'>')\n",
    "            title_author = pattern.split(values[j])\n",
    "            \n",
    "            \n",
    "            #print(title_author)\n",
    "            #store in the corresponding column\n",
    "            df_asignados.loc[i, 'titulo'] = title_author[0]\n",
    "            df_asignados.loc[i, 'autor'] = title_author[1]\n",
    "        else:\n",
    "            #if the column is >2, add 1 to the column number\n",
    "            if j > 2:\n",
    "                df_asignados.loc[i, df_asignados.columns[j+1]] = values[j]\n",
    "            else:\n",
    "\n",
    "                df_asignados.loc[i, df_asignados.columns[j]] = values[j]\n",
    "\n",
    "\n",
    "\n",
    "            \n",
    "\n",
    "\n",
    "df_asignados.head()\n"
   ]
  },
  {
   "cell_type": "code",
   "execution_count": 155,
   "metadata": {},
   "outputs": [
    {
     "name": "stdout",
     "output_type": "stream",
     "text": [
      "RELATIONSHIP BETWEEN U-MMP7 AND PROGNOSIS, COMORBIDITY AND MORTALITY IN AKI\n"
     ]
    }
   ],
   "source": [
    "#print titulo in the row 0\n",
    "print(df_asignados.loc[0, 'titulo'])"
   ]
  },
  {
   "attachments": {},
   "cell_type": "markdown",
   "metadata": {},
   "source": [
    "# Errores:\n",
    "- El título tiene también el autor por #cosas\n",
    "- hay que extraer el estado de la evaluación\n",
    "- Hay que extraer la decisión del editor"
   ]
  },
  {
   "cell_type": "code",
   "execution_count": 146,
   "metadata": {},
   "outputs": [
    {
     "name": "stdout",
     "output_type": "stream",
     "text": [
      "RELATIONSHIP BETWEEN U-MMP7 AND PROGNOSIS, COMORBIDITY AND MORTALITY IN AKI<td class='  ' style='vertical-align: middle;text-align: center;'>Fadime Altinbas \n",
      "RELATIONSHIP BETWEEN U-MMP7 AND PROGNOSIS, COMORBIDITY AND MORTALITY IN AKI\n",
      "Fadime Altinbas \n"
     ]
    }
   ],
   "source": [
    "#print the data from titulo of the first 5 rows\n",
    "for i in range(1):\n",
    "    print(df_asignados.loc[i, 'titulo'])\n",
    "    #split in two the string by <td class='  ' style='vertical-align: middle;text-align: center;'> \n",
    "    pattern = re.compile(r'<td class=\\'  \\' style=\\'vertical-align: middle;text-align: center;\\'>')\n",
    "    values = pattern.split(df_asignados.loc[i, 'titulo'])\n",
    "    print(values[0])\n",
    "    print(values[1])\n",
    "\n",
    "    \n"
   ]
  },
  {
   "cell_type": "code",
   "execution_count": null,
   "metadata": {},
   "outputs": [],
   "source": []
  },
  {
   "cell_type": "code",
   "execution_count": null,
   "metadata": {},
   "outputs": [],
   "source": []
  },
  {
   "cell_type": "code",
   "execution_count": null,
   "metadata": {},
   "outputs": [],
   "source": []
  },
  {
   "cell_type": "code",
   "execution_count": null,
   "metadata": {},
   "outputs": [],
   "source": []
  },
  {
   "cell_type": "code",
   "execution_count": null,
   "metadata": {},
   "outputs": [],
   "source": []
  },
  {
   "cell_type": "code",
   "execution_count": null,
   "metadata": {},
   "outputs": [],
   "source": []
  },
  {
   "cell_type": "code",
   "execution_count": 69,
   "metadata": {},
   "outputs": [
    {
     "name": "stdout",
     "output_type": "stream",
     "text": [
      "<td class='  ' style='vertical-align: middle;;'>NEFRO-D-22-00288R1<td class='  ' style='vertical-align: middle;;'>Original<td class='  ' style='vertical-align: middle;;'>Dysregulation of ferroptosis may participate in the mitigating effect of CoCl2 on contrast-induced nephropathy<td class='  ' style='vertical-align: middle;text-align: center;'>Huilin Li <td class='  ' style='vertical-align: middle;;'>04/08/2022<td class='  ' style='vertical-align: middle;;'>09/12/2022<td class='  ' style='vertical-align: middle;;'>Pendiente Evaluadores<td class='  ' style='vertical-align: middle;;'>Mariano Rodriguez<td class='  ' style='vertical-align: middle;;'><div class='reviewerHoverDetails leftAligned' data-docid='15804'><div class=rs-table><div class='rs-headerRow rs-complete'><div class='rs-countCell '><span class='rs-overlay-cell'>1</span></div><div class='rs-detailCell'><span class='rs-overlay-cell'>Completo</span></div></div><div class='rs-headerRow rs-agreed'><div class='rs-countCell '><span class='rs-overlay-cell'>1</span></div><div class='rs-detailCell'><span class='rs-overlay-cell'>Aceptado</span></div></div><div class=\\\"rs-more-link \\\"><span class=\\\"rs-more-link linkActive\\\" >(más...)</span></div></div><td class='  ' style='vertical-align: middle;;'><a href=\\\"javascript:popupLetter(128317, '856ce420-bc23-4689-aec7-d8471587c2df', 'nefro','false',false,'false')\\\">Grandes cambios / Major revision</a><td class='colresize-cell  ' style=';'></td>\n"
     ]
    }
   ],
   "source": [
    "#split between the tags <td class='  ' style='vertical-align: middle;;'> and <\n",
    "\n",
    "pattern = re.compile(r'<td class=\\'  \\' style=\\'vertical-align: middle;;\\'>.*?</td>')\n",
    "matches = pattern.findall(body)\n",
    "\n",
    "print (matches[20])\n",
    "\n"
   ]
  },
  {
   "cell_type": "code",
   "execution_count": 132,
   "metadata": {},
   "outputs": [
    {
     "name": "stdout",
     "output_type": "stream",
     "text": [
      "<td class='  ' style='vertical-align: middle;;'>NEFRO-D-23-00008<td class='  ' style='vertical-align: middle;;'>Original<td class='  ' style='vertical-align: middle;;'>Correlation of Luminex-based single-antigen-based results with CDC-XM and FC-XM results<td class='  ' style='vertical-align: middle;text-align: center;'>Suleyman Rustu Rustu Oguz, MD PhD <td class='  ' style='vertical-align: middle;;'>06/01/2023<td class='  ' style='vertical-align: middle;;'>09/01/2023<td class='  ' style='vertical-align: middle;;'>Pendiente del Editor<td class='  ' style='vertical-align: middle;;'>Mariano Rodriguez<td class='  ' style='vertical-align: middle;;'><td class='  ' style='vertical-align: middle;;'><td class='colresize-cell  ' style=';'></td>\n",
      "['', 'NEFRO-D-23-00011', 'Original', \"RELATIONSHIP BETWEEN U-MMP7 AND PROGNOSIS, COMORBIDITY AND MORTALITY IN AKI<td class='  ' style='vertical-align: middle;text-align: center;'>Fadime Altinbas \", '11/01/2023', '11/01/2023', 'Pendiente del Editor', 'Mariano Rodriguez', '', \"<td class='colresize-cell  ' style=';'></td>\"]\n"
     ]
    }
   ],
   "source": [
    "#splitwith the tag <td class='  ' style='vertical-align: middle;;'> \n",
    "pattern = re.compile(r'<td class=\\'  \\' style=\\'vertical-align: middle;;\\'>')\n",
    "#values = pattern.split(matches[0])\n",
    "#remove the first element\n",
    "#print (values)\n",
    "print (matches[3])\n",
    "#split the value 2 in 2 parts by <td class='  ' style='vertical-align: middle;text-align: center;'> and the end of the string\n",
    "pattern2 = re.compile(r'<td class=\\'  \\' style=\\'vertical-align: middle;text-align: center;\\'>')\n",
    "values2 = pattern2.split(matches[0][3])\n",
    "print(values)\n",
    "\n"
   ]
  },
  {
   "attachments": {},
   "cell_type": "markdown",
   "metadata": {},
   "source": [
    "['', 'NEFRO-D-23-00010', 'Original', \"The Association of Vitamin D Supplementation in case of need on Chronic Kidney Disease Progression<td class='  ' style='vertical-align: middle;text-align: center;'>Ilhan Kilic, M.D. \", '09/01/2023', '10/01/2023', 'Pendiente del Editor', 'Mariano Rodriguez', '', \"<td class='colresize-cell  ' style=';'></td>\"]"
   ]
  },
  {
   "cell_type": "code",
   "execution_count": 115,
   "metadata": {},
   "outputs": [
    {
     "name": "stdout",
     "output_type": "stream",
     "text": [
      "\n",
      "\n",
      "elemento  9 1 Completo\n",
      "elemento  9 1 Aceptado\n",
      "elemento  9 1 Invitado – Sin Respuesta\n",
      "elemento  9 1 Rechazado\n",
      "\n",
      "elemento  9 1 Completo\n",
      "elemento  9 1 Aceptado\n",
      "elemento  9 1 Invitado – Sin Respuesta\n",
      "elemento  9 1 Rechazado\n",
      "\n",
      "elemento  9 1 Completo\n",
      "elemento  9 1 Aceptado\n",
      "elemento  9 1 Invitado – Sin Respuesta\n",
      "elemento  9 1 Rechazado\n",
      "\n",
      "elemento  9 1 Completo\n",
      "elemento  9 1 Aceptado\n",
      "elemento  9 1 Invitado – Sin Respuesta\n",
      "elemento  9 1 Rechazado\n",
      "\n",
      "\n",
      "elemento  11 1 Aceptado\n",
      "elemento  11 2 Invitado – Sin Respuesta\n",
      "\n",
      "elemento  11 1 Aceptado\n",
      "elemento  11 2 Invitado – Sin Respuesta\n",
      "\n",
      "\n",
      "elemento  13 1 Completo\n",
      "elemento  13 2 Invitado – Sin Respuesta\n",
      "elemento  13 1 Rechazado\n",
      "\n",
      "elemento  13 1 Completo\n",
      "elemento  13 2 Invitado – Sin Respuesta\n",
      "elemento  13 1 Rechazado\n",
      "\n",
      "elemento  13 1 Completo\n",
      "elemento  13 2 Invitado – Sin Respuesta\n",
      "elemento  13 1 Rechazado\n",
      "\n",
      "\n",
      "elemento  14 1 Completo\n",
      "elemento  14 2 Aceptado\n",
      "elemento  14 1 Tarde\n",
      "\n",
      "elemento  14 1 Completo\n",
      "elemento  14 2 Aceptado\n",
      "elemento  14 1 Tarde\n",
      "\n",
      "elemento  14 1 Completo\n",
      "elemento  14 2 Aceptado\n",
      "elemento  14 1 Tarde\n",
      "\n",
      "\n",
      "elemento  15 2 Completo\n",
      "elemento  15 1 Rechazado\n",
      "\n",
      "elemento  15 2 Completo\n",
      "elemento  15 1 Rechazado\n",
      "\n",
      "\n",
      "elemento  16 1 Completo\n",
      "elemento  16 1 Aceptado\n",
      "elemento  16 1 Rechazado\n",
      "elemento  16 1 Tarde\n",
      "\n",
      "elemento  16 1 Completo\n",
      "elemento  16 1 Aceptado\n",
      "elemento  16 1 Rechazado\n",
      "elemento  16 1 Tarde\n",
      "\n",
      "elemento  16 1 Completo\n",
      "elemento  16 1 Aceptado\n",
      "elemento  16 1 Rechazado\n",
      "elemento  16 1 Tarde\n",
      "\n",
      "elemento  16 1 Completo\n",
      "elemento  16 1 Aceptado\n",
      "elemento  16 1 Rechazado\n",
      "elemento  16 1 Tarde\n",
      "\n",
      "\n",
      "elemento  18 1 Completo\n",
      "elemento  18 3 Rechazado\n",
      "\n",
      "elemento  18 1 Completo\n",
      "elemento  18 3 Rechazado\n",
      "\n",
      "\n",
      "elemento  19 2 Aceptado\n",
      "\n",
      "\n",
      "elemento  20 1 Completo\n",
      "elemento  20 1 Aceptado\n",
      "\n",
      "elemento  20 1 Completo\n",
      "elemento  20 1 Aceptado\n",
      "\n",
      "\n",
      "elemento  21 1 Completo\n"
     ]
    }
   ],
   "source": [
    "#extract the content from estado_evaluacion and stre in a list\n",
    "\n",
    "#go through the dataframe and extract the content from estado_evaluacion and store in a list\n",
    "estado_evaluacion = []\n",
    "for k in range(len(df_asignados)):\n",
    "    element = df_asignados.loc[k, 'estado_evaluacion']\n",
    "    #print(element)\n",
    "\n",
    "    #check if the element is not empty\n",
    "    if element != '':\n",
    "\n",
    "        #print the numero_manuscrito\n",
    "        print(df_asignados.loc[k, 'numero_manuscrito'])\n",
    "        \n",
    "        soup = BeautifulSoup(element, 'html.parser')\n",
    "\n",
    "        #find the div class=\"ro-content\"\n",
    "        div = soup.find('div', class_=\"ro-content\")\n",
    "        #print(div)\n",
    "\n",
    "        #find all the rs-headerRow elements\n",
    "        rs_headerRow = soup.find_all('div', class_=\"rs-headerRow\")\n",
    "        for i in range(len(rs_headerRow)):\n",
    "            #print(rs_headerRow[i])\n",
    "            print('')\n",
    "            rows = soup.select('.reviewerHoverDetails .rs-headerRow')\n",
    "            for row in rows:\n",
    "                count = row.select_one('.rs-countCell span').text\n",
    "                detail = row.select_one('.rs-detailCell span').text\n",
    "                print('elemento ',k, count, detail)\n",
    "        '''\n",
    "        #find the number and the status\n",
    "        number = soup.select_one('.reviewerHoverDetails .rs-countCell span').text\n",
    "        status = soup.select_one('.reviewerHoverDetails .rs-detailCell span').text\n",
    "\n",
    "        #print(number, status)\n",
    "\n",
    "        #store in the list\n",
    "        estado_evaluacion.append([number, status])\n",
    "        '''\n",
    "    else:\n",
    "        estado_evaluacion.append('')\n",
    "        #print('elemento ',k, 'vacío')\n",
    "\n",
    "#print(estado_evaluacion)\n",
    "\n"
   ]
  },
  {
   "cell_type": "code",
   "execution_count": 97,
   "metadata": {},
   "outputs": [
    {
     "name": "stdout",
     "output_type": "stream",
     "text": [
      "<div class='reviewerHoverDetails leftAligned' data-docid='16058'><div class=rs-table><div class='rs-headerRow rs-complete'><div class='rs-countCell '><span class='rs-overlay-cell'>1</span></div><div class='rs-detailCell'><span class='rs-overlay-cell'>Completo</span></div></div><div class='rs-headerRow rs-agreed'><div class='rs-countCell '><span class='rs-overlay-cell'>1</span></div><div class='rs-detailCell'><span class='rs-overlay-cell'>Aceptado</span></div></div><div class='rs-headerRow rs-invited'><div class='rs-countCell '><span class='rs-overlay-cell'>1</span></div><div class='rs-detailCell'><span class='rs-overlay-cell'>Invitado &#8211; Sin Respuesta</span></div></div><div class='rs-headerRow rs-declined'><div class='rs-countCell '><span class='rs-overlay-cell'>1</span></div><div class='rs-detailCell'><span class='rs-overlay-cell'>Rechazado</span></div></div><div class=\\\"rs-more-link \\\"><span class=\\\"rs-more-link linkActive\\\" >(más...)</span></div></div>\n"
     ]
    }
   ],
   "source": [
    "#print the column estado_evaluacion data fo the row 0\n",
    "estado_ev_test =df_asignados.loc[9, 'estado_evaluacion']\n",
    "print(estado_ev_test)"
   ]
  },
  {
   "cell_type": "code",
   "execution_count": 105,
   "metadata": {},
   "outputs": [
    {
     "name": "stdout",
     "output_type": "stream",
     "text": [
      "\n",
      "1 Completo\n",
      "1 Aceptado\n",
      "1 Invitado – Sin Respuesta\n",
      "1 Rechazado\n",
      "\n",
      "1 Completo\n",
      "1 Aceptado\n",
      "1 Invitado – Sin Respuesta\n",
      "1 Rechazado\n",
      "\n",
      "1 Completo\n",
      "1 Aceptado\n",
      "1 Invitado – Sin Respuesta\n",
      "1 Rechazado\n",
      "\n",
      "1 Completo\n",
      "1 Aceptado\n",
      "1 Invitado – Sin Respuesta\n",
      "1 Rechazado\n"
     ]
    }
   ],
   "source": [
    "#scrap the data from estado_evaluacion div class=\"ro-content\" with beautiful soup\n",
    "\n",
    "soup = BeautifulSoup(estado_ev_test, 'html.parser')\n",
    "#print(soup.prettify())\n",
    "\n",
    "#find the div class=\"ro-content\"\n",
    "div = soup.find('div', class_=\"ro-content\")\n",
    "#print(div)\n",
    "\n",
    "#find all the rs-headerRow elements\n",
    "rs_headerRow = soup.find_all('div', class_=\"rs-headerRow\")\n",
    "for i in range(len(rs_headerRow)):\n",
    "    #print(rs_headerRow[i])\n",
    "    print('')\n",
    "    rows = soup.select('.reviewerHoverDetails .rs-headerRow')\n",
    "    for row in rows:\n",
    "        count = row.select_one('.rs-countCell span').text\n",
    "        detail = row.select_one('.rs-detailCell span').text\n",
    "        print(count, detail)\n",
    "\n",
    "\n",
    "\n",
    "\n",
    "\n",
    "\n",
    "\n"
   ]
  },
  {
   "cell_type": "code",
   "execution_count": 91,
   "metadata": {},
   "outputs": [
    {
     "name": "stdout",
     "output_type": "stream",
     "text": [
      "1 Completo\n"
     ]
    }
   ],
   "source": [
    "#extract from div\n",
    "\n",
    "\n",
    "\n"
   ]
  },
  {
   "cell_type": "code",
   "execution_count": null,
   "metadata": {},
   "outputs": [],
   "source": []
  }
 ],
 "metadata": {
  "kernelspec": {
   "display_name": "Python 3",
   "language": "python",
   "name": "python3"
  },
  "language_info": {
   "codemirror_mode": {
    "name": "ipython",
    "version": 3
   },
   "file_extension": ".py",
   "mimetype": "text/x-python",
   "name": "python",
   "nbconvert_exporter": "python",
   "pygments_lexer": "ipython3",
   "version": "3.10.8"
  },
  "orig_nbformat": 4,
  "vscode": {
   "interpreter": {
    "hash": "b0fa6594d8f4cbf19f97940f81e996739fb7646882a419484c72d19e05852a7e"
   }
  }
 },
 "nbformat": 4,
 "nbformat_minor": 2
}
