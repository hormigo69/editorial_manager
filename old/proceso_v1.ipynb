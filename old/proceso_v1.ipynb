{
 "cells": [
  {
   "cell_type": "code",
   "execution_count": null,
   "metadata": {},
   "outputs": [],
   "source": []
  },
  {
   "cell_type": "code",
   "execution_count": null,
   "metadata": {},
   "outputs": [],
   "source": []
  },
  {
   "cell_type": "code",
   "execution_count": 1,
   "metadata": {},
   "outputs": [
    {
     "data": {
      "text/plain": [
       "'16/01/2023'"
      ]
     },
     "execution_count": 1,
     "metadata": {},
     "output_type": "execute_result"
    }
   ],
   "source": [
    "#get today's date in the format dd/mm/yyyy and store it in the variable today\n",
    "from datetime import datetime\n",
    "today = datetime.today().strftime('%d/%m/%Y')\n",
    "today"
   ]
  },
  {
   "cell_type": "code",
   "execution_count": 3,
   "metadata": {},
   "outputs": [],
   "source": [
    "#get the data from the cvs manuscritos_en_proceso.csv and store in a dataframe called en_proceso_guardados\n",
    "import pandas as pd\n",
    "en_proceso_guardados = pd.read_csv('manuscritos_en_proceso.csv')\n",
    "\n",
    "#check the dataframe\n",
    "#en_proceso_guardados"
   ]
  },
  {
   "cell_type": "code",
   "execution_count": 5,
   "metadata": {},
   "outputs": [],
   "source": [
    "#get the data from manuscritos_definitiva.csv and store in a dataframe called definitiva_guardados\n",
    "definitiva_guardados = pd.read_csv('manuscritos_definitiva.csv')\n",
    "\n",
    "#check the dataframe\n",
    "#definitiva_guardados"
   ]
  },
  {
   "cell_type": "code",
   "execution_count": 6,
   "metadata": {},
   "outputs": [
    {
     "name": "stdout",
     "output_type": "stream",
     "text": [
      "200\n",
      "{'EMSessionID': '%7B457F04AC%2DCD8D%2D4B61%2D8E7A%2D4BBD424EAF5E%7D'}\n",
      "200\n",
      "200\n",
      "Descargados correctamente 20 manuscritos asignados\n",
      "200\n",
      "41\n",
      "en_proceso_actual.csv guardado.  61 filas   19 columnas\n",
      "200\n",
      "100\n",
      "definitiva_actual.csv guardado.  100 filas   11 columnas\n",
      "200\n"
     ]
    }
   ],
   "source": [
    "#call the python script that gets the data from the website and store it in two dataframes called en_proceso and definitiva\n",
    "#run scrap_editorial_manager.py\n",
    "%run scrap_editorial_manager.py\n"
   ]
  },
  {
   "cell_type": "code",
   "execution_count": 10,
   "metadata": {},
   "outputs": [],
   "source": [
    "#import en_proceso_actual.csv and store it in a dataframe called en_proceso_actual\n",
    "en_proceso_actual = pd.read_csv('en_proceso_actual.csv')\n",
    "\n",
    "#import definitiva_actual.csv and store it in a dataframe called definitiva_actual\n",
    "definitiva_actual = pd.read_csv('definitiva_actual.csv')\n"
   ]
  },
  {
   "cell_type": "code",
   "execution_count": 13,
   "metadata": {},
   "outputs": [],
   "source": [
    "#check the dataframes\n",
    "#en_proceso_actual.head()\n"
   ]
  },
  {
   "cell_type": "code",
   "execution_count": 14,
   "metadata": {},
   "outputs": [],
   "source": [
    "#definitiva_actual.head()"
   ]
  },
  {
   "attachments": {},
   "cell_type": "markdown",
   "metadata": {},
   "source": [
    "# Nuevo manuscrito: \n",
    "no está en en_proceso_guardados pero sí en en_proceso_actual"
   ]
  },
  {
   "cell_type": "code",
   "execution_count": 54,
   "metadata": {},
   "outputs": [
    {
     "name": "stdout",
     "output_type": "stream",
     "text": [
      "Manuscritos nuevos en proceso:  2\n"
     ]
    },
    {
     "data": {
      "text/plain": [
       "15    NEFRO-D-22-00367R1\n",
       "24      NEFRO-D-22-00459\n",
       "Name: numero_manuscrito, dtype: object"
      ]
     },
     "execution_count": 54,
     "metadata": {},
     "output_type": "execute_result"
    }
   ],
   "source": [
    "#find the manuscripts that are in en_proceso_actual but not in en_proceso_guardados\n",
    "en_proceso_nuevos = en_proceso_actual[~en_proceso_actual['numero_manuscrito'].isin(en_proceso_guardados['numero_manuscrito'])]\n",
    "\n",
    "#check the dataframe\n",
    "print ('Manuscritos nuevos en proceso: ', len(en_proceso_nuevos))\n",
    "#print the numero_manuscrito of the manuscripts that are in en_proceso_actual\n",
    "en_proceso_nuevos['numero_manuscrito']"
   ]
  },
  {
   "cell_type": "code",
   "execution_count": 62,
   "metadata": {},
   "outputs": [
    {
     "name": "stdout",
     "output_type": "stream",
     "text": [
      "Actualizada la BDD de manuscritos en proceso con  2 nuevos manuscritos\n"
     ]
    },
    {
     "name": "stderr",
     "output_type": "stream",
     "text": [
      "/var/folders/ch/63kj7hh97f1_0yrh4d1t0t8c0000gn/T/ipykernel_43072/421335970.py:3: SettingWithCopyWarning: \n",
      "A value is trying to be set on a copy of a slice from a DataFrame.\n",
      "Try using .loc[row_indexer,col_indexer] = value instead\n",
      "\n",
      "See the caveats in the documentation: https://pandas.pydata.org/pandas-docs/stable/user_guide/indexing.html#returning-a-view-versus-a-copy\n",
      "  en_proceso_nuevos.loc[:,'fecha_alta'] = today\n"
     ]
    }
   ],
   "source": [
    "#add today's date in the column fecha_alta with .loc to avoid SettingWithCopyWarning\n",
    "\n",
    "en_proceso_nuevos.loc[:,'fecha_alta'] = today\n",
    "\n",
    "#add with concat\n",
    "en_proceso_guardados = pd.concat([en_proceso_guardados, en_proceso_nuevos], ignore_index=True)\n",
    "\n",
    "print ('Actualizada la BDD de manuscritos en proceso con', len(en_proceso_nuevos), 'nuevos manuscritos')\n"
   ]
  },
  {
   "attachments": {},
   "cell_type": "markdown",
   "metadata": {},
   "source": [
    "# Baja manuscrito\n",
    "\n",
    "Está en definitiva_guardados sin fecha de baja pero no en la descarga, definitiva_actual.\n",
    "Añado la fecha de hoy como fecha de baja en definitiva_guardados"
   ]
  },
  {
   "cell_type": "code",
   "execution_count": 65,
   "metadata": {},
   "outputs": [
    {
     "data": {
      "text/html": [
       "<div>\n",
       "<style scoped>\n",
       "    .dataframe tbody tr th:only-of-type {\n",
       "        vertical-align: middle;\n",
       "    }\n",
       "\n",
       "    .dataframe tbody tr th {\n",
       "        vertical-align: top;\n",
       "    }\n",
       "\n",
       "    .dataframe thead th {\n",
       "        text-align: right;\n",
       "    }\n",
       "</style>\n",
       "<table border=\"1\" class=\"dataframe\">\n",
       "  <thead>\n",
       "    <tr style=\"text-align: right;\">\n",
       "      <th></th>\n",
       "      <th>numero_manuscrito</th>\n",
       "      <th>tipo_articulo</th>\n",
       "      <th>titulo</th>\n",
       "      <th>autor</th>\n",
       "      <th>fecha_inicial</th>\n",
       "      <th>fecha_estado</th>\n",
       "      <th>estado_actual</th>\n",
       "      <th>editor</th>\n",
       "      <th>decision_editor</th>\n",
       "      <th>est_ev_completo</th>\n",
       "      <th>est_ev_aceptado</th>\n",
       "      <th>est_ev_invitado</th>\n",
       "      <th>est_ev_rechazado</th>\n",
       "      <th>est_ev_tarde</th>\n",
       "      <th>data_identity</th>\n",
       "      <th>email</th>\n",
       "      <th>fecha_vencimiento</th>\n",
       "      <th>fecha_alta</th>\n",
       "      <th>fecha_baja</th>\n",
       "    </tr>\n",
       "  </thead>\n",
       "  <tbody>\n",
       "    <tr>\n",
       "      <th>49</th>\n",
       "      <td>NEFRO-D-22-00448</td>\n",
       "      <td>Original breve</td>\n",
       "      <td>EXPRESIÓN DE C4d EN GLOMERULOESCLEROSIS FOCAL ...</td>\n",
       "      <td>Victoriano Pérez-Vázquez, Ph.D</td>\n",
       "      <td>20/12/2022</td>\n",
       "      <td>15/01/2023</td>\n",
       "      <td>Pendiente Evaluadores</td>\n",
       "      <td>Marian Goicoechea</td>\n",
       "      <td>NaN</td>\n",
       "      <td>0.0</td>\n",
       "      <td>1.0</td>\n",
       "      <td>1.0</td>\n",
       "      <td>0.0</td>\n",
       "      <td>0.0</td>\n",
       "      <td>16048</td>\n",
       "      <td>NaN</td>\n",
       "      <td>NaN</td>\n",
       "      <td></td>\n",
       "      <td>NaN</td>\n",
       "    </tr>\n",
       "    <tr>\n",
       "      <th>50</th>\n",
       "      <td>NEFRO-D-22-00340</td>\n",
       "      <td>Cartas al editor</td>\n",
       "      <td>PROTEINURIA DE BAJO PESO MOLECULAR, HIPERCALCI...</td>\n",
       "      <td>Víctor Adán Lanceta, M.D.</td>\n",
       "      <td>16/09/2022</td>\n",
       "      <td>06/10/2022</td>\n",
       "      <td>Revise / A Modificar</td>\n",
       "      <td>NaN</td>\n",
       "      <td>Grandes cambios / Major revision</td>\n",
       "      <td>NaN</td>\n",
       "      <td>NaN</td>\n",
       "      <td>NaN</td>\n",
       "      <td>NaN</td>\n",
       "      <td>NaN</td>\n",
       "      <td>15882</td>\n",
       "      <td>['victoradanlanceta@gmail.com']</td>\n",
       "      <td>05/11/2022</td>\n",
       "      <td></td>\n",
       "      <td>NaN</td>\n",
       "    </tr>\n",
       "  </tbody>\n",
       "</table>\n",
       "</div>"
      ],
      "text/plain": [
       "   numero_manuscrito     tipo_articulo  \\\n",
       "49  NEFRO-D-22-00448    Original breve   \n",
       "50  NEFRO-D-22-00340  Cartas al editor   \n",
       "\n",
       "                                               titulo  \\\n",
       "49  EXPRESIÓN DE C4d EN GLOMERULOESCLEROSIS FOCAL ...   \n",
       "50  PROTEINURIA DE BAJO PESO MOLECULAR, HIPERCALCI...   \n",
       "\n",
       "                              autor fecha_inicial fecha_estado  \\\n",
       "49  Victoriano Pérez-Vázquez, Ph.D     20/12/2022   15/01/2023   \n",
       "50      Víctor Adán Lanceta, M.D.      16/09/2022   06/10/2022   \n",
       "\n",
       "            estado_actual             editor  \\\n",
       "49  Pendiente Evaluadores  Marian Goicoechea   \n",
       "50   Revise / A Modificar                NaN   \n",
       "\n",
       "                     decision_editor  est_ev_completo  est_ev_aceptado  \\\n",
       "49                               NaN              0.0              1.0   \n",
       "50  Grandes cambios / Major revision              NaN              NaN   \n",
       "\n",
       "    est_ev_invitado  est_ev_rechazado  est_ev_tarde  data_identity  \\\n",
       "49              1.0               0.0           0.0          16048   \n",
       "50              NaN               NaN           NaN          15882   \n",
       "\n",
       "                              email fecha_vencimiento fecha_alta  fecha_baja  \n",
       "49                              NaN               NaN                    NaN  \n",
       "50  ['victoradanlanceta@gmail.com']        05/11/2022                    NaN  "
      ]
     },
     "execution_count": 65,
     "metadata": {},
     "output_type": "execute_result"
    }
   ],
   "source": [
    "# find the manuscripts without fecha_baja that are in en_proceso_guardados but not in en_proceso_actual\n",
    "en_proceso_bajas = en_proceso_guardados[(en_proceso_guardados['fecha_baja'].isnull()) & (~en_proceso_guardados['numero_manuscrito'].isin(en_proceso_actual['numero_manuscrito']))]\n",
    "\n",
    "#check the dataframe\n",
    "en_proceso_bajas"
   ]
  },
  {
   "cell_type": "code",
   "execution_count": 53,
   "metadata": {},
   "outputs": [],
   "source": [
    "#for testing, delete two random rows of the dataframe en_proceso_guardados\n",
    "#get two random numbers between 0 and the number of rows in the dataframe\n",
    "def delete_rows(df):\n",
    "    import random\n",
    "    random.seed(1)\n",
    "    random_number1 = random.randint(0, len(df))\n",
    "    random_number2 = random.randint(0, len(df))\n",
    "    \n",
    "    #delete the rows\n",
    "    #delete the rows\n",
    "    df.drop([random_number1, random_number2], inplace=True)    \n",
    "    return\n",
    "\n"
   ]
  },
  {
   "cell_type": "code",
   "execution_count": 69,
   "metadata": {},
   "outputs": [],
   "source": [
    "#for testing, delete two random rows of the dataframe en_proceso_actual\n",
    "#delete_rows(en_proceso_actual)\n",
    "\n",
    "\n",
    "#add en_proceso_bajas to definitiva_actual for testing\n",
    "definitiva_actual = pd.concat([definitiva_actual, en_proceso_bajas], ignore_index=True)\n"
   ]
  },
  {
   "cell_type": "code",
   "execution_count": 80,
   "metadata": {},
   "outputs": [
    {
     "data": {
      "text/plain": [
       "Index(['numero_manuscrito', 'tipo_articulo', 'titulo', 'autor',\n",
       "       'fecha_inicial', 'fecha_estado', 'estado_actual', 'editor',\n",
       "       'estado_evaluacion', 'decision_editor', 'data_identity',\n",
       "       'est_ev_completo', 'est_ev_aceptado', 'est_ev_invitado',\n",
       "       'est_ev_rechazado', 'est_ev_tarde', 'email', 'fecha_vencimiento',\n",
       "       'fecha_alta', 'fecha_baja'],\n",
       "      dtype='object')"
      ]
     },
     "execution_count": 80,
     "metadata": {},
     "output_type": "execute_result"
    }
   ],
   "source": [
    "#columns in definitiva_actual\n",
    "definitiva_actual.columns"
   ]
  },
  {
   "cell_type": "code",
   "execution_count": 66,
   "metadata": {},
   "outputs": [
    {
     "data": {
      "text/html": [
       "<div>\n",
       "<style scoped>\n",
       "    .dataframe tbody tr th:only-of-type {\n",
       "        vertical-align: middle;\n",
       "    }\n",
       "\n",
       "    .dataframe tbody tr th {\n",
       "        vertical-align: top;\n",
       "    }\n",
       "\n",
       "    .dataframe thead th {\n",
       "        text-align: right;\n",
       "    }\n",
       "</style>\n",
       "<table border=\"1\" class=\"dataframe\">\n",
       "  <thead>\n",
       "    <tr style=\"text-align: right;\">\n",
       "      <th></th>\n",
       "      <th>numero_manuscrito</th>\n",
       "      <th>tipo_articulo</th>\n",
       "      <th>titulo</th>\n",
       "      <th>autor</th>\n",
       "      <th>fecha_inicial</th>\n",
       "      <th>fecha_estado</th>\n",
       "      <th>estado_actual</th>\n",
       "      <th>editor</th>\n",
       "      <th>estado_evaluacion</th>\n",
       "      <th>decision_editor</th>\n",
       "      <th>data_identity</th>\n",
       "    </tr>\n",
       "  </thead>\n",
       "  <tbody>\n",
       "    <tr>\n",
       "      <th>0</th>\n",
       "      <td>NaN</td>\n",
       "      <td>Casos Clinicos</td>\n",
       "      <td>Concurrent cobalamin C and plasminogen deficie...</td>\n",
       "      <td>AHMET BURAK DIRIM</td>\n",
       "      <td>NaN</td>\n",
       "      <td>16/01/2023</td>\n",
       "      <td>Content Files Deleted - Forced to Withdrawn</td>\n",
       "      <td>NaN</td>\n",
       "      <td>Forzado a Retirado</td>\n",
       "      <td>NaN</td>\n",
       "      <td>15831</td>\n",
       "    </tr>\n",
       "    <tr>\n",
       "      <th>1</th>\n",
       "      <td>NEFRO-D-22-00007</td>\n",
       "      <td>Revisión</td>\n",
       "      <td>True brachial artery aneurysm in patients with...</td>\n",
       "      <td>Andreea Rata</td>\n",
       "      <td>07/01/2022</td>\n",
       "      <td>16/01/2023</td>\n",
       "      <td>FIN CIRCUITO: Retirado</td>\n",
       "      <td>Mariano Rodriguez</td>\n",
       "      <td>Retirado</td>\n",
       "      <td>Grandes cambios / Major revision</td>\n",
       "      <td>15421</td>\n",
       "    </tr>\n",
       "    <tr>\n",
       "      <th>2</th>\n",
       "      <td>NEFRO-D-22-00402</td>\n",
       "      <td>Original</td>\n",
       "      <td>Genetic polymorphisms (rs869109213 &amp;amp; rs207...</td>\n",
       "      <td>Hooria Younas</td>\n",
       "      <td>09/11/2022</td>\n",
       "      <td>15/01/2023</td>\n",
       "      <td>FIN CIRCUITO: Rechazado</td>\n",
       "      <td>Mariano Rodriguez</td>\n",
       "      <td>Rechazo</td>\n",
       "      <td>Rechazado / Rejected</td>\n",
       "      <td>15971</td>\n",
       "    </tr>\n",
       "    <tr>\n",
       "      <th>3</th>\n",
       "      <td>NEFRO-D-22-00148R2</td>\n",
       "      <td>Original</td>\n",
       "      <td>Efectos del uso concomitante de N-acetilcisteí...</td>\n",
       "      <td>AHMET TEKTEMUR, Ph.D</td>\n",
       "      <td>19/04/2022</td>\n",
       "      <td>14/01/2023</td>\n",
       "      <td>FIN CIRCUITO: Rechazado</td>\n",
       "      <td>Mariano Rodriguez</td>\n",
       "      <td>Rechazo</td>\n",
       "      <td>Rechazado / Rejected</td>\n",
       "      <td>15622</td>\n",
       "    </tr>\n",
       "    <tr>\n",
       "      <th>4</th>\n",
       "      <td>NEFRO-D-23-00008</td>\n",
       "      <td>Original</td>\n",
       "      <td>Correlation of Luminex-based single-antigen-ba...</td>\n",
       "      <td>Suleyman Rustu Rustu Oguz, MD PhD</td>\n",
       "      <td>06/01/2023</td>\n",
       "      <td>14/01/2023</td>\n",
       "      <td>FIN CIRCUITO: Rechazado</td>\n",
       "      <td>Mariano Rodriguez</td>\n",
       "      <td>Rechazo</td>\n",
       "      <td>Rechazado / Rejected</td>\n",
       "      <td>16079</td>\n",
       "    </tr>\n",
       "  </tbody>\n",
       "</table>\n",
       "</div>"
      ],
      "text/plain": [
       "    numero_manuscrito   tipo_articulo  \\\n",
       "0                 NaN  Casos Clinicos   \n",
       "1    NEFRO-D-22-00007        Revisión   \n",
       "2    NEFRO-D-22-00402        Original   \n",
       "3  NEFRO-D-22-00148R2        Original   \n",
       "4    NEFRO-D-23-00008        Original   \n",
       "\n",
       "                                              titulo  \\\n",
       "0  Concurrent cobalamin C and plasminogen deficie...   \n",
       "1  True brachial artery aneurysm in patients with...   \n",
       "2  Genetic polymorphisms (rs869109213 &amp; rs207...   \n",
       "3  Efectos del uso concomitante de N-acetilcisteí...   \n",
       "4  Correlation of Luminex-based single-antigen-ba...   \n",
       "\n",
       "                               autor fecha_inicial fecha_estado  \\\n",
       "0                  AHMET BURAK DIRIM           NaN   16/01/2023   \n",
       "1                       Andreea Rata    07/01/2022   16/01/2023   \n",
       "2                      Hooria Younas    09/11/2022   15/01/2023   \n",
       "3               AHMET TEKTEMUR, Ph.D    19/04/2022   14/01/2023   \n",
       "4  Suleyman Rustu Rustu Oguz, MD PhD    06/01/2023   14/01/2023   \n",
       "\n",
       "                                 estado_actual             editor  \\\n",
       "0  Content Files Deleted - Forced to Withdrawn                NaN   \n",
       "1                       FIN CIRCUITO: Retirado  Mariano Rodriguez   \n",
       "2                      FIN CIRCUITO: Rechazado  Mariano Rodriguez   \n",
       "3                      FIN CIRCUITO: Rechazado  Mariano Rodriguez   \n",
       "4                      FIN CIRCUITO: Rechazado  Mariano Rodriguez   \n",
       "\n",
       "    estado_evaluacion                   decision_editor  data_identity  \n",
       "0  Forzado a Retirado                               NaN          15831  \n",
       "1            Retirado  Grandes cambios / Major revision          15421  \n",
       "2             Rechazo              Rechazado / Rejected          15971  \n",
       "3             Rechazo              Rechazado / Rejected          15622  \n",
       "4             Rechazo              Rechazado / Rejected          16079  "
      ]
     },
     "execution_count": 66,
     "metadata": {},
     "output_type": "execute_result"
    }
   ],
   "source": [
    "definitiva_actual.head()"
   ]
  },
  {
   "cell_type": "code",
   "execution_count": 72,
   "metadata": {},
   "outputs": [],
   "source": [
    "#find the data_idetity of the manuscript is en_proceso_bajas in the dataframe definitiva_actual and store today's date in the column fecha_baja\n",
    "#these are the manuscripts that have been sent to the editorial department or have been rejected\n",
    "\n",
    "definitiva_actual.loc[definitiva_actual['data_identity'].isin(en_proceso_bajas['data_identity']), 'fecha_baja'] = today\n",
    "\n"
   ]
  },
  {
   "cell_type": "code",
   "execution_count": 73,
   "metadata": {},
   "outputs": [
    {
     "data": {
      "text/html": [
       "<div>\n",
       "<style scoped>\n",
       "    .dataframe tbody tr th:only-of-type {\n",
       "        vertical-align: middle;\n",
       "    }\n",
       "\n",
       "    .dataframe tbody tr th {\n",
       "        vertical-align: top;\n",
       "    }\n",
       "\n",
       "    .dataframe thead th {\n",
       "        text-align: right;\n",
       "    }\n",
       "</style>\n",
       "<table border=\"1\" class=\"dataframe\">\n",
       "  <thead>\n",
       "    <tr style=\"text-align: right;\">\n",
       "      <th></th>\n",
       "      <th>numero_manuscrito</th>\n",
       "      <th>tipo_articulo</th>\n",
       "      <th>titulo</th>\n",
       "      <th>autor</th>\n",
       "      <th>fecha_inicial</th>\n",
       "      <th>fecha_estado</th>\n",
       "      <th>estado_actual</th>\n",
       "      <th>editor</th>\n",
       "      <th>estado_evaluacion</th>\n",
       "      <th>decision_editor</th>\n",
       "      <th>data_identity</th>\n",
       "      <th>est_ev_completo</th>\n",
       "      <th>est_ev_aceptado</th>\n",
       "      <th>est_ev_invitado</th>\n",
       "      <th>est_ev_rechazado</th>\n",
       "      <th>est_ev_tarde</th>\n",
       "      <th>email</th>\n",
       "      <th>fecha_vencimiento</th>\n",
       "      <th>fecha_alta</th>\n",
       "      <th>fecha_baja</th>\n",
       "    </tr>\n",
       "  </thead>\n",
       "  <tbody>\n",
       "    <tr>\n",
       "      <th>100</th>\n",
       "      <td>NEFRO-D-22-00448</td>\n",
       "      <td>Original breve</td>\n",
       "      <td>EXPRESIÓN DE C4d EN GLOMERULOESCLEROSIS FOCAL ...</td>\n",
       "      <td>Victoriano Pérez-Vázquez, Ph.D</td>\n",
       "      <td>20/12/2022</td>\n",
       "      <td>15/01/2023</td>\n",
       "      <td>Pendiente Evaluadores</td>\n",
       "      <td>Marian Goicoechea</td>\n",
       "      <td>NaN</td>\n",
       "      <td>NaN</td>\n",
       "      <td>16048</td>\n",
       "      <td>0.0</td>\n",
       "      <td>1.0</td>\n",
       "      <td>1.0</td>\n",
       "      <td>0.0</td>\n",
       "      <td>0.0</td>\n",
       "      <td>NaN</td>\n",
       "      <td>NaN</td>\n",
       "      <td></td>\n",
       "      <td>16/01/2023</td>\n",
       "    </tr>\n",
       "    <tr>\n",
       "      <th>101</th>\n",
       "      <td>NEFRO-D-22-00340</td>\n",
       "      <td>Cartas al editor</td>\n",
       "      <td>PROTEINURIA DE BAJO PESO MOLECULAR, HIPERCALCI...</td>\n",
       "      <td>Víctor Adán Lanceta, M.D.</td>\n",
       "      <td>16/09/2022</td>\n",
       "      <td>06/10/2022</td>\n",
       "      <td>Revise / A Modificar</td>\n",
       "      <td>NaN</td>\n",
       "      <td>NaN</td>\n",
       "      <td>Grandes cambios / Major revision</td>\n",
       "      <td>15882</td>\n",
       "      <td>NaN</td>\n",
       "      <td>NaN</td>\n",
       "      <td>NaN</td>\n",
       "      <td>NaN</td>\n",
       "      <td>NaN</td>\n",
       "      <td>['victoradanlanceta@gmail.com']</td>\n",
       "      <td>05/11/2022</td>\n",
       "      <td></td>\n",
       "      <td>16/01/2023</td>\n",
       "    </tr>\n",
       "  </tbody>\n",
       "</table>\n",
       "</div>"
      ],
      "text/plain": [
       "    numero_manuscrito     tipo_articulo  \\\n",
       "100  NEFRO-D-22-00448    Original breve   \n",
       "101  NEFRO-D-22-00340  Cartas al editor   \n",
       "\n",
       "                                                titulo  \\\n",
       "100  EXPRESIÓN DE C4d EN GLOMERULOESCLEROSIS FOCAL ...   \n",
       "101  PROTEINURIA DE BAJO PESO MOLECULAR, HIPERCALCI...   \n",
       "\n",
       "                               autor fecha_inicial fecha_estado  \\\n",
       "100  Victoriano Pérez-Vázquez, Ph.D     20/12/2022   15/01/2023   \n",
       "101      Víctor Adán Lanceta, M.D.      16/09/2022   06/10/2022   \n",
       "\n",
       "             estado_actual             editor estado_evaluacion  \\\n",
       "100  Pendiente Evaluadores  Marian Goicoechea               NaN   \n",
       "101   Revise / A Modificar                NaN               NaN   \n",
       "\n",
       "                      decision_editor  data_identity  est_ev_completo  \\\n",
       "100                               NaN          16048              0.0   \n",
       "101  Grandes cambios / Major revision          15882              NaN   \n",
       "\n",
       "     est_ev_aceptado  est_ev_invitado  est_ev_rechazado  est_ev_tarde  \\\n",
       "100              1.0              1.0               0.0           0.0   \n",
       "101              NaN              NaN               NaN           NaN   \n",
       "\n",
       "                               email fecha_vencimiento fecha_alta  fecha_baja  \n",
       "100                              NaN               NaN             16/01/2023  \n",
       "101  ['victoradanlanceta@gmail.com']        05/11/2022             16/01/2023  "
      ]
     },
     "execution_count": 73,
     "metadata": {},
     "output_type": "execute_result"
    }
   ],
   "source": [
    "#print the elements in definitiva_actual with fecha_baja\n",
    "definitiva_actual[definitiva_actual['fecha_baja'].notnull()]"
   ]
  },
  {
   "cell_type": "code",
   "execution_count": null,
   "metadata": {},
   "outputs": [],
   "source": []
  },
  {
   "cell_type": "code",
   "execution_count": null,
   "metadata": {},
   "outputs": [],
   "source": []
  },
  {
   "cell_type": "code",
   "execution_count": null,
   "metadata": {},
   "outputs": [],
   "source": []
  },
  {
   "attachments": {},
   "cell_type": "markdown",
   "metadata": {},
   "source": [
    "# Cambios en la fecha de estado y/o en Estado Actual :\n",
    "Ha habido una modificación en el status. "
   ]
  },
  {
   "cell_type": "code",
   "execution_count": null,
   "metadata": {},
   "outputs": [],
   "source": []
  }
 ],
 "metadata": {
  "kernelspec": {
   "display_name": "Python 3",
   "language": "python",
   "name": "python3"
  },
  "language_info": {
   "codemirror_mode": {
    "name": "ipython",
    "version": 3
   },
   "file_extension": ".py",
   "mimetype": "text/x-python",
   "name": "python",
   "nbconvert_exporter": "python",
   "pygments_lexer": "ipython3",
   "version": "3.10.8 (main, Oct 13 2022, 09:48:40) [Clang 14.0.0 (clang-1400.0.29.102)]"
  },
  "orig_nbformat": 4,
  "vscode": {
   "interpreter": {
    "hash": "b0fa6594d8f4cbf19f97940f81e996739fb7646882a419484c72d19e05852a7e"
   }
  }
 },
 "nbformat": 4,
 "nbformat_minor": 2
}
